{
  "nbformat": 4,
  "nbformat_minor": 0,
  "metadata": {
    "colab": {
      "name": "Copy of LogisticRegression .ipynb",
      "provenance": [],
      "collapsed_sections": [],
      "include_colab_link": true
    },
    "kernelspec": {
      "name": "python3",
      "display_name": "Python 3"
    },
    "language_info": {
      "name": "python"
    }
  },
  "cells": [
    {
      "cell_type": "markdown",
      "metadata": {
        "id": "view-in-github",
        "colab_type": "text"
      },
      "source": [
        "<a href=\"https://colab.research.google.com/github/darsh-ana/machine-learning/blob/main/Copy_of_LogisticRegression_.ipynb\" target=\"_parent\"><img src=\"https://colab.research.google.com/assets/colab-badge.svg\" alt=\"Open In Colab\"/></a>"
      ]
    },
    {
      "cell_type": "markdown",
      "source": [
        "Logistic Regression "
      ],
      "metadata": {
        "id": "-MlDko8Y6580"
      }
    },
    {
      "cell_type": "markdown",
      "source": [
        "## Objectives\n",
        "\n",
        "After completing this lab you will be able to:\n",
        "\n",
        "*   Use scikit Logistic Regression to classify\n",
        "*   Understand confusion matrix\n"
      ],
      "metadata": {
        "id": "dUl8-hVK7xZ6"
      }
    },
    {
      "cell_type": "markdown",
      "source": [
        "<a id=\"ref1\"></a>\n",
        "\n",
        "## What is the difference between Linear and Logistic Regression?\n",
        "\n",
        "While Linear Regression is suited for estimating continuous values (e.g. estimating house price), it is not the best tool for predicting the class of an observed data point. In order to estimate the class of a data point, we need some sort of guidance on what would be the <b>most probable class</b> for that data point. For this, we use <b>Logistic Regression</b>.\n",
        "\n",
        "<div class=\"alert alert-success alertsuccess\" style=\"margin-top: 20px\">\n",
        "<font size = 3><strong>Recall linear regression:</strong></font>\n",
        "<br>\n",
        "<br>\n",
        "    As you know, <b>Linear regression</b> finds a function that relates a continuous dependent variable, <b>y</b>, to some predictors (independent variables $x_1$, $x_2$, etc.). For example, simple linear regression assumes a function of the form:\n",
        "<br><br>\n",
        "$$\n",
        "y = \\theta_0 + \\theta_1  x_1 + \\theta_2  x_2 + \\cdots\n",
        "$$\n",
        "<br>\n",
        "and finds the values of parameters $\\theta_0, \\theta_1, \\theta_2$, etc, where the term $\\theta_0$ is the \"intercept\". It can be generally shown as:\n",
        "<br><br>\n",
        "$$\n",
        "ℎ_\\theta(𝑥) = \\theta^TX\n",
        "$$\n",
        "<p></p>\n",
        "\n",
        "</div>\n",
        "\n",
        "Logistic Regression is a variation of Linear Regression, used when the observed dependent variable, <b>y</b>, is categorical. It produces a formula that predicts the probability of the class label as a function of the independent variables.\n",
        "\n",
        "Logistic regression fits a special s-shaped curve by taking the linear regression function and transforming the numeric estimate into a probability with the following function, which is called the sigmoid function 𝜎:\n",
        "\n",
        "$$\n",
        "ℎ\\_\\theta(𝑥) = \\sigma({\\theta^TX}) =  \\frac {e^{(\\theta\\_0 + \\theta\\_1  x\\_1 + \\theta\\_2  x\\_2 +...)}}{1 + e^{(\\theta\\_0 + \\theta\\_1  x\\_1 + \\theta\\_2  x\\_2 +\\cdots)}}\n",
        "$$\n",
        "Or:\n",
        "$$\n",
        "ProbabilityOfaClass\\_1 =  P(Y=1|X) = \\sigma({\\theta^TX}) = \\frac{e^{\\theta^TX}}{1+e^{\\theta^TX}}\n",
        "$$\n",
        "\n",
        "In this equation, ${\\theta^TX}$ is the regression result (the sum of the variables weighted by the coefficients), `exp` is the exponential function and $\\sigma(\\theta^TX)$ is the sigmoid or [logistic function](http://en.wikipedia.org/wiki/Logistic_function?utm_medium=Exinfluencer&utm_source=Exinfluencer&utm_content=000026UJ&utm_term=10006555&utm_id=NA-SkillsNetwork-Channel-SkillsNetworkCoursesIBMDeveloperSkillsNetworkML0101ENSkillsNetwork20718538-2022-01-01), also called logistic curve. It is a common \"S\" shape (sigmoid curve).\n",
        "\n",
        "So, briefly, Logistic Regression passes the input through the logistic/sigmoid but then treats the result as a probability:\n",
        "\n",
        "<img\n",
        "src=\"https://cf-courses-data.s3.us.cloud-object-storage.appdomain.cloud/IBMDeveloperSkillsNetwork-ML0101EN-SkillsNetwork/labs/Module%203/images/mod_ID_24_final.png\" width=\"400\" align=\"center\">\n",
        "\n",
        "The objective of the **Logistic Regression** algorithm, is to find the best parameters θ, for $ℎ\\_\\theta(𝑥)$ = $\\sigma({\\theta^TX})$, in such a way that the model best predicts the class of each case."
      ],
      "metadata": {
        "id": "JdQSVNIJ8Gha"
      }
    },
    {
      "cell_type": "code",
      "source": [
        "!pip install scikit-learn==0.23.1"
      ],
      "metadata": {
        "colab": {
          "base_uri": "https://localhost:8080/"
        },
        "id": "sEfJfPME8mou",
        "outputId": "dea18ef4-cc96-48f1-f045-1b0b052c35b6"
      },
      "execution_count": null,
      "outputs": [
        {
          "output_type": "stream",
          "name": "stdout",
          "text": [
            "Looking in indexes: https://pypi.org/simple, https://us-python.pkg.dev/colab-wheels/public/simple/\n",
            "Collecting scikit-learn==0.23.1\n",
            "  Downloading scikit_learn-0.23.1-cp37-cp37m-manylinux1_x86_64.whl (6.8 MB)\n",
            "\u001b[K     |████████████████████████████████| 6.8 MB 19.9 MB/s \n",
            "\u001b[?25hRequirement already satisfied: joblib>=0.11 in /usr/local/lib/python3.7/dist-packages (from scikit-learn==0.23.1) (1.1.0)\n",
            "Requirement already satisfied: threadpoolctl>=2.0.0 in /usr/local/lib/python3.7/dist-packages (from scikit-learn==0.23.1) (3.1.0)\n",
            "Requirement already satisfied: numpy>=1.13.3 in /usr/local/lib/python3.7/dist-packages (from scikit-learn==0.23.1) (1.21.6)\n",
            "Requirement already satisfied: scipy>=0.19.1 in /usr/local/lib/python3.7/dist-packages (from scikit-learn==0.23.1) (1.4.1)\n",
            "Installing collected packages: scikit-learn\n",
            "  Attempting uninstall: scikit-learn\n",
            "    Found existing installation: scikit-learn 1.0.2\n",
            "    Uninstalling scikit-learn-1.0.2:\n",
            "      Successfully uninstalled scikit-learn-1.0.2\n",
            "\u001b[31mERROR: pip's dependency resolver does not currently take into account all the packages that are installed. This behaviour is the source of the following dependency conflicts.\n",
            "yellowbrick 1.4 requires scikit-learn>=1.0.0, but you have scikit-learn 0.23.1 which is incompatible.\n",
            "imbalanced-learn 0.8.1 requires scikit-learn>=0.24, but you have scikit-learn 0.23.1 which is incompatible.\u001b[0m\n",
            "Successfully installed scikit-learn-0.23.1\n"
          ]
        }
      ]
    },
    {
      "cell_type": "code",
      "source": [
        "import pandas as pd\n",
        "import pylab as pl\n",
        "import numpy as np\n",
        "import scipy.optimize as opt\n",
        "from sklearn import preprocessing\n",
        "%matplotlib inline \n",
        "import matplotlib.pyplot as plt"
      ],
      "metadata": {
        "id": "4IwyKsQQ8vnf"
      },
      "execution_count": null,
      "outputs": []
    },
    {
      "cell_type": "markdown",
      "source": [
        "<h2 id=\"about_dataset\">About the dataset</h2>\n",
        "We will use a telecommunications dataset for predicting customer churn. This is a historical customer dataset where each row represents one customer. The data is relatively easy to understand, and you may uncover insights you can use immediately. Typically it is less expensive to keep customers than acquire new ones, so the focus of this analysis is to predict the customers who will stay with the company. \n",
        "\n",
        "This data set provides information to help you predict what behavior will help you to retain customers. You can analyze all relevant customer data and develop focused customer retention programs.\n",
        "\n",
        "The dataset includes information about:\n",
        "\n",
        "*   Customers who left within the last month – the column is called Churn\n",
        "*   Services that each customer has signed up for – phone, multiple lines, internet, online security, online backup, device protection, tech support, and streaming TV and movies\n",
        "*   Customer account information – how long they had been a customer, contract, payment method, paperless billing, monthly charges, and total charges\n",
        "*   Demographic info about customers – gender, age range, and if they have partners and dependents"
      ],
      "metadata": {
        "id": "U2LTXMBV9qmx"
      }
    },
    {
      "cell_type": "code",
      "source": [
        "df=pd.read_csv(\"https://cf-courses-data.s3.us.cloud-object-storage.appdomain.cloud/IBMDeveloperSkillsNetwork-ML0101EN-SkillsNetwork/labs/Module%203/data/ChurnData.csv\")\n",
        "display(df)"
      ],
      "metadata": {
        "colab": {
          "base_uri": "https://localhost:8080/",
          "height": 488
        },
        "id": "1OvmkE5O9r5-",
        "outputId": "7c6c8f76-4164-48d9-b7d3-e1c237b72638"
      },
      "execution_count": null,
      "outputs": [
        {
          "output_type": "display_data",
          "data": {
            "text/plain": [
              "     tenure   age  address  income   ed  employ  equip  callcard  wireless  \\\n",
              "0      11.0  33.0      7.0   136.0  5.0     5.0    0.0       1.0       1.0   \n",
              "1      33.0  33.0     12.0    33.0  2.0     0.0    0.0       0.0       0.0   \n",
              "2      23.0  30.0      9.0    30.0  1.0     2.0    0.0       0.0       0.0   \n",
              "3      38.0  35.0      5.0    76.0  2.0    10.0    1.0       1.0       1.0   \n",
              "4       7.0  35.0     14.0    80.0  2.0    15.0    0.0       1.0       0.0   \n",
              "..      ...   ...      ...     ...  ...     ...    ...       ...       ...   \n",
              "195    55.0  44.0     24.0    83.0  1.0    23.0    0.0       1.0       0.0   \n",
              "196    34.0  23.0      3.0    24.0  1.0     7.0    0.0       1.0       0.0   \n",
              "197     6.0  32.0     10.0    47.0  1.0    10.0    0.0       1.0       0.0   \n",
              "198    24.0  30.0      0.0    25.0  4.0     5.0    0.0       1.0       1.0   \n",
              "199    61.0  50.0     16.0   190.0  2.0    22.0    1.0       1.0       1.0   \n",
              "\n",
              "     longmon  ...  pager  internet  callwait  confer  ebill  loglong  logtoll  \\\n",
              "0       4.40  ...    1.0       0.0       1.0     1.0    0.0    1.482    3.033   \n",
              "1       9.45  ...    0.0       0.0       0.0     0.0    0.0    2.246    3.240   \n",
              "2       6.30  ...    0.0       0.0       0.0     1.0    0.0    1.841    3.240   \n",
              "3       6.05  ...    1.0       1.0       1.0     1.0    1.0    1.800    3.807   \n",
              "4       7.10  ...    0.0       0.0       1.0     1.0    0.0    1.960    3.091   \n",
              "..       ...  ...    ...       ...       ...     ...    ...      ...      ...   \n",
              "195    17.35  ...    0.0       0.0       0.0     1.0    0.0    2.854    3.199   \n",
              "196     6.00  ...    0.0       0.0       1.0     1.0    0.0    1.792    3.332   \n",
              "197     3.85  ...    0.0       0.0       1.0     1.0    0.0    1.348    3.168   \n",
              "198     8.70  ...    1.0       1.0       1.0     1.0    1.0    2.163    3.866   \n",
              "199    16.85  ...    0.0       1.0       0.0     0.0    1.0    2.824    3.240   \n",
              "\n",
              "     lninc  custcat  churn  \n",
              "0    4.913      4.0    1.0  \n",
              "1    3.497      1.0    1.0  \n",
              "2    3.401      3.0    0.0  \n",
              "3    4.331      4.0    0.0  \n",
              "4    4.382      3.0    0.0  \n",
              "..     ...      ...    ...  \n",
              "195  4.419      3.0    0.0  \n",
              "196  3.178      3.0    0.0  \n",
              "197  3.850      3.0    0.0  \n",
              "198  3.219      4.0    1.0  \n",
              "199  5.247      2.0    0.0  \n",
              "\n",
              "[200 rows x 28 columns]"
            ],
            "text/html": [
              "\n",
              "  <div id=\"df-08f23912-c35c-49da-9dd7-541d96d2d85d\">\n",
              "    <div class=\"colab-df-container\">\n",
              "      <div>\n",
              "<style scoped>\n",
              "    .dataframe tbody tr th:only-of-type {\n",
              "        vertical-align: middle;\n",
              "    }\n",
              "\n",
              "    .dataframe tbody tr th {\n",
              "        vertical-align: top;\n",
              "    }\n",
              "\n",
              "    .dataframe thead th {\n",
              "        text-align: right;\n",
              "    }\n",
              "</style>\n",
              "<table border=\"1\" class=\"dataframe\">\n",
              "  <thead>\n",
              "    <tr style=\"text-align: right;\">\n",
              "      <th></th>\n",
              "      <th>tenure</th>\n",
              "      <th>age</th>\n",
              "      <th>address</th>\n",
              "      <th>income</th>\n",
              "      <th>ed</th>\n",
              "      <th>employ</th>\n",
              "      <th>equip</th>\n",
              "      <th>callcard</th>\n",
              "      <th>wireless</th>\n",
              "      <th>longmon</th>\n",
              "      <th>...</th>\n",
              "      <th>pager</th>\n",
              "      <th>internet</th>\n",
              "      <th>callwait</th>\n",
              "      <th>confer</th>\n",
              "      <th>ebill</th>\n",
              "      <th>loglong</th>\n",
              "      <th>logtoll</th>\n",
              "      <th>lninc</th>\n",
              "      <th>custcat</th>\n",
              "      <th>churn</th>\n",
              "    </tr>\n",
              "  </thead>\n",
              "  <tbody>\n",
              "    <tr>\n",
              "      <th>0</th>\n",
              "      <td>11.0</td>\n",
              "      <td>33.0</td>\n",
              "      <td>7.0</td>\n",
              "      <td>136.0</td>\n",
              "      <td>5.0</td>\n",
              "      <td>5.0</td>\n",
              "      <td>0.0</td>\n",
              "      <td>1.0</td>\n",
              "      <td>1.0</td>\n",
              "      <td>4.40</td>\n",
              "      <td>...</td>\n",
              "      <td>1.0</td>\n",
              "      <td>0.0</td>\n",
              "      <td>1.0</td>\n",
              "      <td>1.0</td>\n",
              "      <td>0.0</td>\n",
              "      <td>1.482</td>\n",
              "      <td>3.033</td>\n",
              "      <td>4.913</td>\n",
              "      <td>4.0</td>\n",
              "      <td>1.0</td>\n",
              "    </tr>\n",
              "    <tr>\n",
              "      <th>1</th>\n",
              "      <td>33.0</td>\n",
              "      <td>33.0</td>\n",
              "      <td>12.0</td>\n",
              "      <td>33.0</td>\n",
              "      <td>2.0</td>\n",
              "      <td>0.0</td>\n",
              "      <td>0.0</td>\n",
              "      <td>0.0</td>\n",
              "      <td>0.0</td>\n",
              "      <td>9.45</td>\n",
              "      <td>...</td>\n",
              "      <td>0.0</td>\n",
              "      <td>0.0</td>\n",
              "      <td>0.0</td>\n",
              "      <td>0.0</td>\n",
              "      <td>0.0</td>\n",
              "      <td>2.246</td>\n",
              "      <td>3.240</td>\n",
              "      <td>3.497</td>\n",
              "      <td>1.0</td>\n",
              "      <td>1.0</td>\n",
              "    </tr>\n",
              "    <tr>\n",
              "      <th>2</th>\n",
              "      <td>23.0</td>\n",
              "      <td>30.0</td>\n",
              "      <td>9.0</td>\n",
              "      <td>30.0</td>\n",
              "      <td>1.0</td>\n",
              "      <td>2.0</td>\n",
              "      <td>0.0</td>\n",
              "      <td>0.0</td>\n",
              "      <td>0.0</td>\n",
              "      <td>6.30</td>\n",
              "      <td>...</td>\n",
              "      <td>0.0</td>\n",
              "      <td>0.0</td>\n",
              "      <td>0.0</td>\n",
              "      <td>1.0</td>\n",
              "      <td>0.0</td>\n",
              "      <td>1.841</td>\n",
              "      <td>3.240</td>\n",
              "      <td>3.401</td>\n",
              "      <td>3.0</td>\n",
              "      <td>0.0</td>\n",
              "    </tr>\n",
              "    <tr>\n",
              "      <th>3</th>\n",
              "      <td>38.0</td>\n",
              "      <td>35.0</td>\n",
              "      <td>5.0</td>\n",
              "      <td>76.0</td>\n",
              "      <td>2.0</td>\n",
              "      <td>10.0</td>\n",
              "      <td>1.0</td>\n",
              "      <td>1.0</td>\n",
              "      <td>1.0</td>\n",
              "      <td>6.05</td>\n",
              "      <td>...</td>\n",
              "      <td>1.0</td>\n",
              "      <td>1.0</td>\n",
              "      <td>1.0</td>\n",
              "      <td>1.0</td>\n",
              "      <td>1.0</td>\n",
              "      <td>1.800</td>\n",
              "      <td>3.807</td>\n",
              "      <td>4.331</td>\n",
              "      <td>4.0</td>\n",
              "      <td>0.0</td>\n",
              "    </tr>\n",
              "    <tr>\n",
              "      <th>4</th>\n",
              "      <td>7.0</td>\n",
              "      <td>35.0</td>\n",
              "      <td>14.0</td>\n",
              "      <td>80.0</td>\n",
              "      <td>2.0</td>\n",
              "      <td>15.0</td>\n",
              "      <td>0.0</td>\n",
              "      <td>1.0</td>\n",
              "      <td>0.0</td>\n",
              "      <td>7.10</td>\n",
              "      <td>...</td>\n",
              "      <td>0.0</td>\n",
              "      <td>0.0</td>\n",
              "      <td>1.0</td>\n",
              "      <td>1.0</td>\n",
              "      <td>0.0</td>\n",
              "      <td>1.960</td>\n",
              "      <td>3.091</td>\n",
              "      <td>4.382</td>\n",
              "      <td>3.0</td>\n",
              "      <td>0.0</td>\n",
              "    </tr>\n",
              "    <tr>\n",
              "      <th>...</th>\n",
              "      <td>...</td>\n",
              "      <td>...</td>\n",
              "      <td>...</td>\n",
              "      <td>...</td>\n",
              "      <td>...</td>\n",
              "      <td>...</td>\n",
              "      <td>...</td>\n",
              "      <td>...</td>\n",
              "      <td>...</td>\n",
              "      <td>...</td>\n",
              "      <td>...</td>\n",
              "      <td>...</td>\n",
              "      <td>...</td>\n",
              "      <td>...</td>\n",
              "      <td>...</td>\n",
              "      <td>...</td>\n",
              "      <td>...</td>\n",
              "      <td>...</td>\n",
              "      <td>...</td>\n",
              "      <td>...</td>\n",
              "      <td>...</td>\n",
              "    </tr>\n",
              "    <tr>\n",
              "      <th>195</th>\n",
              "      <td>55.0</td>\n",
              "      <td>44.0</td>\n",
              "      <td>24.0</td>\n",
              "      <td>83.0</td>\n",
              "      <td>1.0</td>\n",
              "      <td>23.0</td>\n",
              "      <td>0.0</td>\n",
              "      <td>1.0</td>\n",
              "      <td>0.0</td>\n",
              "      <td>17.35</td>\n",
              "      <td>...</td>\n",
              "      <td>0.0</td>\n",
              "      <td>0.0</td>\n",
              "      <td>0.0</td>\n",
              "      <td>1.0</td>\n",
              "      <td>0.0</td>\n",
              "      <td>2.854</td>\n",
              "      <td>3.199</td>\n",
              "      <td>4.419</td>\n",
              "      <td>3.0</td>\n",
              "      <td>0.0</td>\n",
              "    </tr>\n",
              "    <tr>\n",
              "      <th>196</th>\n",
              "      <td>34.0</td>\n",
              "      <td>23.0</td>\n",
              "      <td>3.0</td>\n",
              "      <td>24.0</td>\n",
              "      <td>1.0</td>\n",
              "      <td>7.0</td>\n",
              "      <td>0.0</td>\n",
              "      <td>1.0</td>\n",
              "      <td>0.0</td>\n",
              "      <td>6.00</td>\n",
              "      <td>...</td>\n",
              "      <td>0.0</td>\n",
              "      <td>0.0</td>\n",
              "      <td>1.0</td>\n",
              "      <td>1.0</td>\n",
              "      <td>0.0</td>\n",
              "      <td>1.792</td>\n",
              "      <td>3.332</td>\n",
              "      <td>3.178</td>\n",
              "      <td>3.0</td>\n",
              "      <td>0.0</td>\n",
              "    </tr>\n",
              "    <tr>\n",
              "      <th>197</th>\n",
              "      <td>6.0</td>\n",
              "      <td>32.0</td>\n",
              "      <td>10.0</td>\n",
              "      <td>47.0</td>\n",
              "      <td>1.0</td>\n",
              "      <td>10.0</td>\n",
              "      <td>0.0</td>\n",
              "      <td>1.0</td>\n",
              "      <td>0.0</td>\n",
              "      <td>3.85</td>\n",
              "      <td>...</td>\n",
              "      <td>0.0</td>\n",
              "      <td>0.0</td>\n",
              "      <td>1.0</td>\n",
              "      <td>1.0</td>\n",
              "      <td>0.0</td>\n",
              "      <td>1.348</td>\n",
              "      <td>3.168</td>\n",
              "      <td>3.850</td>\n",
              "      <td>3.0</td>\n",
              "      <td>0.0</td>\n",
              "    </tr>\n",
              "    <tr>\n",
              "      <th>198</th>\n",
              "      <td>24.0</td>\n",
              "      <td>30.0</td>\n",
              "      <td>0.0</td>\n",
              "      <td>25.0</td>\n",
              "      <td>4.0</td>\n",
              "      <td>5.0</td>\n",
              "      <td>0.0</td>\n",
              "      <td>1.0</td>\n",
              "      <td>1.0</td>\n",
              "      <td>8.70</td>\n",
              "      <td>...</td>\n",
              "      <td>1.0</td>\n",
              "      <td>1.0</td>\n",
              "      <td>1.0</td>\n",
              "      <td>1.0</td>\n",
              "      <td>1.0</td>\n",
              "      <td>2.163</td>\n",
              "      <td>3.866</td>\n",
              "      <td>3.219</td>\n",
              "      <td>4.0</td>\n",
              "      <td>1.0</td>\n",
              "    </tr>\n",
              "    <tr>\n",
              "      <th>199</th>\n",
              "      <td>61.0</td>\n",
              "      <td>50.0</td>\n",
              "      <td>16.0</td>\n",
              "      <td>190.0</td>\n",
              "      <td>2.0</td>\n",
              "      <td>22.0</td>\n",
              "      <td>1.0</td>\n",
              "      <td>1.0</td>\n",
              "      <td>1.0</td>\n",
              "      <td>16.85</td>\n",
              "      <td>...</td>\n",
              "      <td>0.0</td>\n",
              "      <td>1.0</td>\n",
              "      <td>0.0</td>\n",
              "      <td>0.0</td>\n",
              "      <td>1.0</td>\n",
              "      <td>2.824</td>\n",
              "      <td>3.240</td>\n",
              "      <td>5.247</td>\n",
              "      <td>2.0</td>\n",
              "      <td>0.0</td>\n",
              "    </tr>\n",
              "  </tbody>\n",
              "</table>\n",
              "<p>200 rows × 28 columns</p>\n",
              "</div>\n",
              "      <button class=\"colab-df-convert\" onclick=\"convertToInteractive('df-08f23912-c35c-49da-9dd7-541d96d2d85d')\"\n",
              "              title=\"Convert this dataframe to an interactive table.\"\n",
              "              style=\"display:none;\">\n",
              "        \n",
              "  <svg xmlns=\"http://www.w3.org/2000/svg\" height=\"24px\"viewBox=\"0 0 24 24\"\n",
              "       width=\"24px\">\n",
              "    <path d=\"M0 0h24v24H0V0z\" fill=\"none\"/>\n",
              "    <path d=\"M18.56 5.44l.94 2.06.94-2.06 2.06-.94-2.06-.94-.94-2.06-.94 2.06-2.06.94zm-11 1L8.5 8.5l.94-2.06 2.06-.94-2.06-.94L8.5 2.5l-.94 2.06-2.06.94zm10 10l.94 2.06.94-2.06 2.06-.94-2.06-.94-.94-2.06-.94 2.06-2.06.94z\"/><path d=\"M17.41 7.96l-1.37-1.37c-.4-.4-.92-.59-1.43-.59-.52 0-1.04.2-1.43.59L10.3 9.45l-7.72 7.72c-.78.78-.78 2.05 0 2.83L4 21.41c.39.39.9.59 1.41.59.51 0 1.02-.2 1.41-.59l7.78-7.78 2.81-2.81c.8-.78.8-2.07 0-2.86zM5.41 20L4 18.59l7.72-7.72 1.47 1.35L5.41 20z\"/>\n",
              "  </svg>\n",
              "      </button>\n",
              "      \n",
              "  <style>\n",
              "    .colab-df-container {\n",
              "      display:flex;\n",
              "      flex-wrap:wrap;\n",
              "      gap: 12px;\n",
              "    }\n",
              "\n",
              "    .colab-df-convert {\n",
              "      background-color: #E8F0FE;\n",
              "      border: none;\n",
              "      border-radius: 50%;\n",
              "      cursor: pointer;\n",
              "      display: none;\n",
              "      fill: #1967D2;\n",
              "      height: 32px;\n",
              "      padding: 0 0 0 0;\n",
              "      width: 32px;\n",
              "    }\n",
              "\n",
              "    .colab-df-convert:hover {\n",
              "      background-color: #E2EBFA;\n",
              "      box-shadow: 0px 1px 2px rgba(60, 64, 67, 0.3), 0px 1px 3px 1px rgba(60, 64, 67, 0.15);\n",
              "      fill: #174EA6;\n",
              "    }\n",
              "\n",
              "    [theme=dark] .colab-df-convert {\n",
              "      background-color: #3B4455;\n",
              "      fill: #D2E3FC;\n",
              "    }\n",
              "\n",
              "    [theme=dark] .colab-df-convert:hover {\n",
              "      background-color: #434B5C;\n",
              "      box-shadow: 0px 1px 3px 1px rgba(0, 0, 0, 0.15);\n",
              "      filter: drop-shadow(0px 1px 2px rgba(0, 0, 0, 0.3));\n",
              "      fill: #FFFFFF;\n",
              "    }\n",
              "  </style>\n",
              "\n",
              "      <script>\n",
              "        const buttonEl =\n",
              "          document.querySelector('#df-08f23912-c35c-49da-9dd7-541d96d2d85d button.colab-df-convert');\n",
              "        buttonEl.style.display =\n",
              "          google.colab.kernel.accessAllowed ? 'block' : 'none';\n",
              "\n",
              "        async function convertToInteractive(key) {\n",
              "          const element = document.querySelector('#df-08f23912-c35c-49da-9dd7-541d96d2d85d');\n",
              "          const dataTable =\n",
              "            await google.colab.kernel.invokeFunction('convertToInteractive',\n",
              "                                                     [key], {});\n",
              "          if (!dataTable) return;\n",
              "\n",
              "          const docLinkHtml = 'Like what you see? Visit the ' +\n",
              "            '<a target=\"_blank\" href=https://colab.research.google.com/notebooks/data_table.ipynb>data table notebook</a>'\n",
              "            + ' to learn more about interactive tables.';\n",
              "          element.innerHTML = '';\n",
              "          dataTable['output_type'] = 'display_data';\n",
              "          await google.colab.output.renderOutput(dataTable, element);\n",
              "          const docLink = document.createElement('div');\n",
              "          docLink.innerHTML = docLinkHtml;\n",
              "          element.appendChild(docLink);\n",
              "        }\n",
              "      </script>\n",
              "    </div>\n",
              "  </div>\n",
              "  "
            ]
          },
          "metadata": {}
        }
      ]
    },
    {
      "cell_type": "code",
      "source": [
        "df.info"
      ],
      "metadata": {
        "colab": {
          "base_uri": "https://localhost:8080/"
        },
        "id": "S-qiL0f3rjlf",
        "outputId": "40405d9d-d6e9-460c-f7b8-9f17e2152cf1"
      },
      "execution_count": null,
      "outputs": [
        {
          "output_type": "execute_result",
          "data": {
            "text/plain": [
              "<bound method DataFrame.info of      tenure   age  address  income   ed  employ  equip  callcard  wireless  \\\n",
              "0      11.0  33.0      7.0   136.0  5.0     5.0    0.0       1.0       1.0   \n",
              "1      33.0  33.0     12.0    33.0  2.0     0.0    0.0       0.0       0.0   \n",
              "2      23.0  30.0      9.0    30.0  1.0     2.0    0.0       0.0       0.0   \n",
              "3      38.0  35.0      5.0    76.0  2.0    10.0    1.0       1.0       1.0   \n",
              "4       7.0  35.0     14.0    80.0  2.0    15.0    0.0       1.0       0.0   \n",
              "..      ...   ...      ...     ...  ...     ...    ...       ...       ...   \n",
              "195    55.0  44.0     24.0    83.0  1.0    23.0    0.0       1.0       0.0   \n",
              "196    34.0  23.0      3.0    24.0  1.0     7.0    0.0       1.0       0.0   \n",
              "197     6.0  32.0     10.0    47.0  1.0    10.0    0.0       1.0       0.0   \n",
              "198    24.0  30.0      0.0    25.0  4.0     5.0    0.0       1.0       1.0   \n",
              "199    61.0  50.0     16.0   190.0  2.0    22.0    1.0       1.0       1.0   \n",
              "\n",
              "     longmon  ...  pager  internet  callwait  confer  ebill  loglong  logtoll  \\\n",
              "0       4.40  ...    1.0       0.0       1.0     1.0    0.0    1.482    3.033   \n",
              "1       9.45  ...    0.0       0.0       0.0     0.0    0.0    2.246    3.240   \n",
              "2       6.30  ...    0.0       0.0       0.0     1.0    0.0    1.841    3.240   \n",
              "3       6.05  ...    1.0       1.0       1.0     1.0    1.0    1.800    3.807   \n",
              "4       7.10  ...    0.0       0.0       1.0     1.0    0.0    1.960    3.091   \n",
              "..       ...  ...    ...       ...       ...     ...    ...      ...      ...   \n",
              "195    17.35  ...    0.0       0.0       0.0     1.0    0.0    2.854    3.199   \n",
              "196     6.00  ...    0.0       0.0       1.0     1.0    0.0    1.792    3.332   \n",
              "197     3.85  ...    0.0       0.0       1.0     1.0    0.0    1.348    3.168   \n",
              "198     8.70  ...    1.0       1.0       1.0     1.0    1.0    2.163    3.866   \n",
              "199    16.85  ...    0.0       1.0       0.0     0.0    1.0    2.824    3.240   \n",
              "\n",
              "     lninc  custcat  churn  \n",
              "0    4.913      4.0    1.0  \n",
              "1    3.497      1.0    1.0  \n",
              "2    3.401      3.0    0.0  \n",
              "3    4.331      4.0    0.0  \n",
              "4    4.382      3.0    0.0  \n",
              "..     ...      ...    ...  \n",
              "195  4.419      3.0    0.0  \n",
              "196  3.178      3.0    0.0  \n",
              "197  3.850      3.0    0.0  \n",
              "198  3.219      4.0    1.0  \n",
              "199  5.247      2.0    0.0  \n",
              "\n",
              "[200 rows x 28 columns]>"
            ]
          },
          "metadata": {},
          "execution_count": 4
        }
      ]
    },
    {
      "cell_type": "code",
      "source": [
        "churn_df = df[['tenure', 'age', 'address', 'income']]\n",
        "churn_df['income'] = churn_df['income'].astype('int')\n",
        "churn_df.head()"
      ],
      "metadata": {
        "colab": {
          "base_uri": "https://localhost:8080/",
          "height": 310
        },
        "id": "-1jXkKBl97dz",
        "outputId": "a4c88e58-d3eb-4a91-8fe3-75baff687971"
      },
      "execution_count": null,
      "outputs": [
        {
          "output_type": "stream",
          "name": "stderr",
          "text": [
            "/usr/local/lib/python3.7/dist-packages/ipykernel_launcher.py:2: SettingWithCopyWarning: \n",
            "A value is trying to be set on a copy of a slice from a DataFrame.\n",
            "Try using .loc[row_indexer,col_indexer] = value instead\n",
            "\n",
            "See the caveats in the documentation: https://pandas.pydata.org/pandas-docs/stable/user_guide/indexing.html#returning-a-view-versus-a-copy\n",
            "  \n"
          ]
        },
        {
          "output_type": "execute_result",
          "data": {
            "text/plain": [
              "   tenure   age  address  income\n",
              "0    11.0  33.0      7.0     136\n",
              "1    33.0  33.0     12.0      33\n",
              "2    23.0  30.0      9.0      30\n",
              "3    38.0  35.0      5.0      76\n",
              "4     7.0  35.0     14.0      80"
            ],
            "text/html": [
              "\n",
              "  <div id=\"df-c29c6faf-1653-400b-96db-2588ba53213b\">\n",
              "    <div class=\"colab-df-container\">\n",
              "      <div>\n",
              "<style scoped>\n",
              "    .dataframe tbody tr th:only-of-type {\n",
              "        vertical-align: middle;\n",
              "    }\n",
              "\n",
              "    .dataframe tbody tr th {\n",
              "        vertical-align: top;\n",
              "    }\n",
              "\n",
              "    .dataframe thead th {\n",
              "        text-align: right;\n",
              "    }\n",
              "</style>\n",
              "<table border=\"1\" class=\"dataframe\">\n",
              "  <thead>\n",
              "    <tr style=\"text-align: right;\">\n",
              "      <th></th>\n",
              "      <th>tenure</th>\n",
              "      <th>age</th>\n",
              "      <th>address</th>\n",
              "      <th>income</th>\n",
              "    </tr>\n",
              "  </thead>\n",
              "  <tbody>\n",
              "    <tr>\n",
              "      <th>0</th>\n",
              "      <td>11.0</td>\n",
              "      <td>33.0</td>\n",
              "      <td>7.0</td>\n",
              "      <td>136</td>\n",
              "    </tr>\n",
              "    <tr>\n",
              "      <th>1</th>\n",
              "      <td>33.0</td>\n",
              "      <td>33.0</td>\n",
              "      <td>12.0</td>\n",
              "      <td>33</td>\n",
              "    </tr>\n",
              "    <tr>\n",
              "      <th>2</th>\n",
              "      <td>23.0</td>\n",
              "      <td>30.0</td>\n",
              "      <td>9.0</td>\n",
              "      <td>30</td>\n",
              "    </tr>\n",
              "    <tr>\n",
              "      <th>3</th>\n",
              "      <td>38.0</td>\n",
              "      <td>35.0</td>\n",
              "      <td>5.0</td>\n",
              "      <td>76</td>\n",
              "    </tr>\n",
              "    <tr>\n",
              "      <th>4</th>\n",
              "      <td>7.0</td>\n",
              "      <td>35.0</td>\n",
              "      <td>14.0</td>\n",
              "      <td>80</td>\n",
              "    </tr>\n",
              "  </tbody>\n",
              "</table>\n",
              "</div>\n",
              "      <button class=\"colab-df-convert\" onclick=\"convertToInteractive('df-c29c6faf-1653-400b-96db-2588ba53213b')\"\n",
              "              title=\"Convert this dataframe to an interactive table.\"\n",
              "              style=\"display:none;\">\n",
              "        \n",
              "  <svg xmlns=\"http://www.w3.org/2000/svg\" height=\"24px\"viewBox=\"0 0 24 24\"\n",
              "       width=\"24px\">\n",
              "    <path d=\"M0 0h24v24H0V0z\" fill=\"none\"/>\n",
              "    <path d=\"M18.56 5.44l.94 2.06.94-2.06 2.06-.94-2.06-.94-.94-2.06-.94 2.06-2.06.94zm-11 1L8.5 8.5l.94-2.06 2.06-.94-2.06-.94L8.5 2.5l-.94 2.06-2.06.94zm10 10l.94 2.06.94-2.06 2.06-.94-2.06-.94-.94-2.06-.94 2.06-2.06.94z\"/><path d=\"M17.41 7.96l-1.37-1.37c-.4-.4-.92-.59-1.43-.59-.52 0-1.04.2-1.43.59L10.3 9.45l-7.72 7.72c-.78.78-.78 2.05 0 2.83L4 21.41c.39.39.9.59 1.41.59.51 0 1.02-.2 1.41-.59l7.78-7.78 2.81-2.81c.8-.78.8-2.07 0-2.86zM5.41 20L4 18.59l7.72-7.72 1.47 1.35L5.41 20z\"/>\n",
              "  </svg>\n",
              "      </button>\n",
              "      \n",
              "  <style>\n",
              "    .colab-df-container {\n",
              "      display:flex;\n",
              "      flex-wrap:wrap;\n",
              "      gap: 12px;\n",
              "    }\n",
              "\n",
              "    .colab-df-convert {\n",
              "      background-color: #E8F0FE;\n",
              "      border: none;\n",
              "      border-radius: 50%;\n",
              "      cursor: pointer;\n",
              "      display: none;\n",
              "      fill: #1967D2;\n",
              "      height: 32px;\n",
              "      padding: 0 0 0 0;\n",
              "      width: 32px;\n",
              "    }\n",
              "\n",
              "    .colab-df-convert:hover {\n",
              "      background-color: #E2EBFA;\n",
              "      box-shadow: 0px 1px 2px rgba(60, 64, 67, 0.3), 0px 1px 3px 1px rgba(60, 64, 67, 0.15);\n",
              "      fill: #174EA6;\n",
              "    }\n",
              "\n",
              "    [theme=dark] .colab-df-convert {\n",
              "      background-color: #3B4455;\n",
              "      fill: #D2E3FC;\n",
              "    }\n",
              "\n",
              "    [theme=dark] .colab-df-convert:hover {\n",
              "      background-color: #434B5C;\n",
              "      box-shadow: 0px 1px 3px 1px rgba(0, 0, 0, 0.15);\n",
              "      filter: drop-shadow(0px 1px 2px rgba(0, 0, 0, 0.3));\n",
              "      fill: #FFFFFF;\n",
              "    }\n",
              "  </style>\n",
              "\n",
              "      <script>\n",
              "        const buttonEl =\n",
              "          document.querySelector('#df-c29c6faf-1653-400b-96db-2588ba53213b button.colab-df-convert');\n",
              "        buttonEl.style.display =\n",
              "          google.colab.kernel.accessAllowed ? 'block' : 'none';\n",
              "\n",
              "        async function convertToInteractive(key) {\n",
              "          const element = document.querySelector('#df-c29c6faf-1653-400b-96db-2588ba53213b');\n",
              "          const dataTable =\n",
              "            await google.colab.kernel.invokeFunction('convertToInteractive',\n",
              "                                                     [key], {});\n",
              "          if (!dataTable) return;\n",
              "\n",
              "          const docLinkHtml = 'Like what you see? Visit the ' +\n",
              "            '<a target=\"_blank\" href=https://colab.research.google.com/notebooks/data_table.ipynb>data table notebook</a>'\n",
              "            + ' to learn more about interactive tables.';\n",
              "          element.innerHTML = '';\n",
              "          dataTable['output_type'] = 'display_data';\n",
              "          await google.colab.output.renderOutput(dataTable, element);\n",
              "          const docLink = document.createElement('div');\n",
              "          docLink.innerHTML = docLinkHtml;\n",
              "          element.appendChild(docLink);\n",
              "        }\n",
              "      </script>\n",
              "    </div>\n",
              "  </div>\n",
              "  "
            ]
          },
          "metadata": {},
          "execution_count": 5
        }
      ]
    },
    {
      "cell_type": "code",
      "source": [
        "X = np.asanyarray(churn_df[['tenure', 'age', 'address', 'income']])\n",
        "X[0:5]"
      ],
      "metadata": {
        "colab": {
          "base_uri": "https://localhost:8080/"
        },
        "id": "zTMauEpm-XTW",
        "outputId": "567e9656-992b-49b1-e565-bb6a0c5c5d8f"
      },
      "execution_count": null,
      "outputs": [
        {
          "output_type": "execute_result",
          "data": {
            "text/plain": [
              "array([[ 11.,  33.,   7., 136.],\n",
              "       [ 33.,  33.,  12.,  33.],\n",
              "       [ 23.,  30.,   9.,  30.],\n",
              "       [ 38.,  35.,   5.,  76.],\n",
              "       [  7.,  35.,  14.,  80.]])"
            ]
          },
          "metadata": {},
          "execution_count": 6
        }
      ]
    },
    {
      "cell_type": "code",
      "source": [
        "y = np.asanyarray(df['churn'])\n",
        "y [0:5]"
      ],
      "metadata": {
        "colab": {
          "base_uri": "https://localhost:8080/"
        },
        "id": "bCPUxgFQ-fkv",
        "outputId": "1630a1db-50fd-4e30-b279-e0826ec54643"
      },
      "execution_count": null,
      "outputs": [
        {
          "output_type": "execute_result",
          "data": {
            "text/plain": [
              "array([1., 1., 0., 0., 0.])"
            ]
          },
          "metadata": {},
          "execution_count": 7
        }
      ]
    },
    {
      "cell_type": "markdown",
      "source": [
        "Also, we normalize the dataset:"
      ],
      "metadata": {
        "id": "tvEwAt9N-mnK"
      }
    },
    {
      "cell_type": "code",
      "source": [
        "from sklearn import preprocessing\n",
        "X = preprocessing.StandardScaler().fit(X).transform(X)\n",
        "X[0:5]"
      ],
      "metadata": {
        "colab": {
          "base_uri": "https://localhost:8080/"
        },
        "id": "aojsQhOw-neP",
        "outputId": "a5970f65-aba6-41db-c337-5e59016ac9a1"
      },
      "execution_count": null,
      "outputs": [
        {
          "output_type": "execute_result",
          "data": {
            "text/plain": [
              "array([[-1.13518441, -0.62595491, -0.4588971 ,  0.4751423 ],\n",
              "       [-0.11604313, -0.62595491,  0.03454064, -0.32886061],\n",
              "       [-0.57928917, -0.85594447, -0.261522  , -0.35227817],\n",
              "       [ 0.11557989, -0.47262854, -0.65627219,  0.00679109],\n",
              "       [-1.32048283, -0.47262854,  0.23191574,  0.03801451]])"
            ]
          },
          "metadata": {},
          "execution_count": 8
        }
      ]
    },
    {
      "cell_type": "markdown",
      "source": [
        "## Train/Test dataset"
      ],
      "metadata": {
        "id": "RP39Tlu6-wFE"
      }
    },
    {
      "cell_type": "code",
      "source": [
        "from sklearn.model_selection import train_test_split\n",
        "X_train, X_test, y_train, y_test = train_test_split( X, y, test_size=0.2, random_state=4)\n",
        "print ('Train set:', X_train.shape,  y_train.shape)\n",
        "print ('Test set:', X_test.shape,  y_test.shape)"
      ],
      "metadata": {
        "colab": {
          "base_uri": "https://localhost:8080/"
        },
        "id": "Bbd-8RXN-xWZ",
        "outputId": "48aee5a8-698c-4895-a677-978fd7b2d788"
      },
      "execution_count": null,
      "outputs": [
        {
          "output_type": "stream",
          "name": "stdout",
          "text": [
            "Train set: (160, 4) (160,)\n",
            "Test set: (40, 4) (40,)\n"
          ]
        }
      ]
    },
    {
      "cell_type": "code",
      "source": [
        "from sklearn.linear_model import LogisticRegression\n",
        "from sklearn.metrics import confusion_matrix\n",
        "LR = LogisticRegression(C=0.01, solver='liblinear').fit(X_train,y_train)\n",
        "LR"
      ],
      "metadata": {
        "colab": {
          "base_uri": "https://localhost:8080/"
        },
        "id": "Pn2koVyR_DWv",
        "outputId": "6aea6984-58d3-4cc8-a572-dc37b8590667"
      },
      "execution_count": null,
      "outputs": [
        {
          "output_type": "execute_result",
          "data": {
            "text/plain": [
              "LogisticRegression(C=0.01, solver='liblinear')"
            ]
          },
          "metadata": {},
          "execution_count": 10
        }
      ]
    },
    {
      "cell_type": "markdown",
      "source": [
        "c- determines regularization- 0.01 is the standard value for logistic regression"
      ],
      "metadata": {
        "id": "IVb20Fd6t0h_"
      }
    },
    {
      "cell_type": "code",
      "source": [
        "yhat = LR.predict(X_test)\n",
        "yhat"
      ],
      "metadata": {
        "colab": {
          "base_uri": "https://localhost:8080/"
        },
        "id": "W-E0phd8_I3y",
        "outputId": "654f3ac3-12fc-4639-bc82-fc6a8d0a7ee7"
      },
      "execution_count": null,
      "outputs": [
        {
          "output_type": "execute_result",
          "data": {
            "text/plain": [
              "array([0., 0., 0., 0., 0., 0., 0., 0., 1., 0., 0., 0., 1., 1., 0., 0., 0.,\n",
              "       0., 0., 0., 0., 0., 0., 0., 0., 0., 0., 0., 1., 0., 0., 0., 1., 0.,\n",
              "       0., 0., 1., 1., 0., 0.])"
            ]
          },
          "metadata": {},
          "execution_count": 11
        }
      ]
    },
    {
      "cell_type": "markdown",
      "source": [
        "yhat- predicted value"
      ],
      "metadata": {
        "id": "woScQEudt99b"
      }
    },
    {
      "cell_type": "markdown",
      "source": [
        "**predict_proba**  returns estimates for all classes, ordered by the label of classes. So, the first column is the probability of class 0, P(Y=0|X), and second column is probability of class 1, P(Y=1|X):"
      ],
      "metadata": {
        "id": "NkYNQ0Qm_YH0"
      }
    },
    {
      "cell_type": "code",
      "source": [
        "yhat_prob = LR.predict_proba(X_test)\n",
        "yhat_prob"
      ],
      "metadata": {
        "colab": {
          "base_uri": "https://localhost:8080/"
        },
        "id": "R7qDXWL8_aNs",
        "outputId": "44940f09-7001-425f-b281-7c2d3db9a215"
      },
      "execution_count": null,
      "outputs": [
        {
          "output_type": "execute_result",
          "data": {
            "text/plain": [
              "array([[0.5977768 , 0.4022232 ],\n",
              "       [0.56107912, 0.43892088],\n",
              "       [0.50596735, 0.49403265],\n",
              "       [0.58353634, 0.41646366],\n",
              "       [0.54570682, 0.45429318],\n",
              "       [0.50669861, 0.49330139],\n",
              "       [0.51759306, 0.48240694],\n",
              "       [0.54007336, 0.45992664],\n",
              "       [0.47670896, 0.52329104],\n",
              "       [0.60062903, 0.39937097],\n",
              "       [0.64401478, 0.35598522],\n",
              "       [0.64317531, 0.35682469],\n",
              "       [0.44345131, 0.55654869],\n",
              "       [0.49208001, 0.50791999],\n",
              "       [0.57517166, 0.42482834],\n",
              "       [0.55587005, 0.44412995],\n",
              "       [0.59708117, 0.40291883],\n",
              "       [0.56344291, 0.43655709],\n",
              "       [0.57515736, 0.42484264],\n",
              "       [0.51949283, 0.48050717],\n",
              "       [0.57308371, 0.42691629],\n",
              "       [0.59592059, 0.40407941],\n",
              "       [0.60239628, 0.39760372],\n",
              "       [0.58035783, 0.41964217],\n",
              "       [0.53254911, 0.46745089],\n",
              "       [0.66725746, 0.33274254],\n",
              "       [0.5396121 , 0.4603879 ],\n",
              "       [0.5646213 , 0.4353787 ],\n",
              "       [0.48685578, 0.51314422],\n",
              "       [0.67942928, 0.32057072],\n",
              "       [0.65431275, 0.34568725],\n",
              "       [0.57500975, 0.42499025],\n",
              "       [0.48881482, 0.51118518],\n",
              "       [0.69248468, 0.30751532],\n",
              "       [0.58858902, 0.41141098],\n",
              "       [0.61126968, 0.38873032],\n",
              "       [0.46383106, 0.53616894],\n",
              "       [0.48093106, 0.51906894],\n",
              "       [0.68130202, 0.31869798],\n",
              "       [0.55502881, 0.44497119]])"
            ]
          },
          "metadata": {},
          "execution_count": 12
        }
      ]
    },
    {
      "cell_type": "markdown",
      "source": [
        "confusion matrix"
      ],
      "metadata": {
        "id": "nR_YKbkXAM5H"
      }
    },
    {
      "cell_type": "markdown",
      "source": [
        "Example diagram "
      ],
      "metadata": {
        "id": "i1v8YW0-A_PP"
      }
    },
    {
      "cell_type": "markdown",
      "source": [
        "![image.png](data:image/png;base64,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)"
      ],
      "metadata": {
        "id": "CDc--3CSA6Li"
      }
    },
    {
      "cell_type": "markdown",
      "source": [
        "![image.png](data:image/png;base64,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)"
      ],
      "metadata": {
        "id": "7mriUjkyBHBY"
      }
    },
    {
      "cell_type": "markdown",
      "source": [
        "Accuracy: Overall, how often is the classifier correct?\n",
        "(TP+TN)/total = (100+50)/165 = 0.91"
      ],
      "metadata": {
        "id": "GI-8QQOhBNUh"
      }
    },
    {
      "cell_type": "markdown",
      "source": [
        "Confusion matrix in our case "
      ],
      "metadata": {
        "id": "W761le6YBSSV"
      }
    },
    {
      "cell_type": "code",
      "source": [
        "x=confusion_matrix(y_test, yhat)\n",
        "print(x)"
      ],
      "metadata": {
        "colab": {
          "base_uri": "https://localhost:8080/"
        },
        "id": "AcmUpUpdAPXd",
        "outputId": "946a8ece-4c89-44f5-ea25-3ad3c6c0938c"
      },
      "execution_count": null,
      "outputs": [
        {
          "output_type": "stream",
          "name": "stdout",
          "text": [
            "[[23  2]\n",
            " [10  5]]\n"
          ]
        }
      ]
    },
    {
      "cell_type": "markdown",
      "source": [
        "compute the accuracy of the classifier using the formula given above "
      ],
      "metadata": {
        "id": "3Kh8e9mdUF0n"
      }
    },
    {
      "cell_type": "code",
      "source": [
        "#start here \n",
        "print((x[0,0]+x[1,1])/(x[0,0]+x[1,1]+x[0,1]+x[1,0]))"
      ],
      "metadata": {
        "id": "J4T3cjxsVe1u",
        "colab": {
          "base_uri": "https://localhost:8080/"
        },
        "outputId": "b3767f5c-6724-49c0-b6f1-c45e9c30348c"
      },
      "execution_count": null,
      "outputs": [
        {
          "output_type": "stream",
          "name": "stdout",
          "text": [
            "0.7\n"
          ]
        }
      ]
    },
    {
      "cell_type": "markdown",
      "source": [
        "<h1>Project 2 </h1>\n"
      ],
      "metadata": {
        "id": "VlOyNHMEWQHk"
      }
    },
    {
      "cell_type": "markdown",
      "source": [
        "perform logistic regression using the following data set"
      ],
      "metadata": {
        "id": "T6E2uTKfWYo3"
      }
    },
    {
      "cell_type": "markdown",
      "source": [
        "Use the feature sets given below to construct a logistic regression model \n",
        " 'ed', 'employ', 'equip',   'callcard', 'wireless'"
      ],
      "metadata": {
        "id": "tck3qSiSZkfW"
      }
    },
    {
      "cell_type": "code",
      "source": [
        "#start here \n",
        "#remember to use different code blocks for different segments \n",
        "\n",
        "dff=df[[\"ed\",\"employ\",\"equip\",\"callcard\",\"wireless\"]]\n",
        "display(dff)\n",
        "y = np.asanyarray(df['churn'])\n",
        "y [0:5]\n",
        "# please remember to train and test your model according to the feature set selected \n"
      ],
      "metadata": {
        "colab": {
          "base_uri": "https://localhost:8080/",
          "height": 441
        },
        "id": "jDtV7qffWSBV",
        "outputId": "6d239340-0990-4a18-bee0-74b3b462da14"
      },
      "execution_count": null,
      "outputs": [
        {
          "output_type": "display_data",
          "data": {
            "text/plain": [
              "      ed  employ  equip  callcard  wireless\n",
              "0    5.0     5.0    0.0       1.0       1.0\n",
              "1    2.0     0.0    0.0       0.0       0.0\n",
              "2    1.0     2.0    0.0       0.0       0.0\n",
              "3    2.0    10.0    1.0       1.0       1.0\n",
              "4    2.0    15.0    0.0       1.0       0.0\n",
              "..   ...     ...    ...       ...       ...\n",
              "195  1.0    23.0    0.0       1.0       0.0\n",
              "196  1.0     7.0    0.0       1.0       0.0\n",
              "197  1.0    10.0    0.0       1.0       0.0\n",
              "198  4.0     5.0    0.0       1.0       1.0\n",
              "199  2.0    22.0    1.0       1.0       1.0\n",
              "\n",
              "[200 rows x 5 columns]"
            ],
            "text/html": [
              "\n",
              "  <div id=\"df-ad26b78b-bfd5-4834-b8a4-ad492f66b7da\">\n",
              "    <div class=\"colab-df-container\">\n",
              "      <div>\n",
              "<style scoped>\n",
              "    .dataframe tbody tr th:only-of-type {\n",
              "        vertical-align: middle;\n",
              "    }\n",
              "\n",
              "    .dataframe tbody tr th {\n",
              "        vertical-align: top;\n",
              "    }\n",
              "\n",
              "    .dataframe thead th {\n",
              "        text-align: right;\n",
              "    }\n",
              "</style>\n",
              "<table border=\"1\" class=\"dataframe\">\n",
              "  <thead>\n",
              "    <tr style=\"text-align: right;\">\n",
              "      <th></th>\n",
              "      <th>ed</th>\n",
              "      <th>employ</th>\n",
              "      <th>equip</th>\n",
              "      <th>callcard</th>\n",
              "      <th>wireless</th>\n",
              "    </tr>\n",
              "  </thead>\n",
              "  <tbody>\n",
              "    <tr>\n",
              "      <th>0</th>\n",
              "      <td>5.0</td>\n",
              "      <td>5.0</td>\n",
              "      <td>0.0</td>\n",
              "      <td>1.0</td>\n",
              "      <td>1.0</td>\n",
              "    </tr>\n",
              "    <tr>\n",
              "      <th>1</th>\n",
              "      <td>2.0</td>\n",
              "      <td>0.0</td>\n",
              "      <td>0.0</td>\n",
              "      <td>0.0</td>\n",
              "      <td>0.0</td>\n",
              "    </tr>\n",
              "    <tr>\n",
              "      <th>2</th>\n",
              "      <td>1.0</td>\n",
              "      <td>2.0</td>\n",
              "      <td>0.0</td>\n",
              "      <td>0.0</td>\n",
              "      <td>0.0</td>\n",
              "    </tr>\n",
              "    <tr>\n",
              "      <th>3</th>\n",
              "      <td>2.0</td>\n",
              "      <td>10.0</td>\n",
              "      <td>1.0</td>\n",
              "      <td>1.0</td>\n",
              "      <td>1.0</td>\n",
              "    </tr>\n",
              "    <tr>\n",
              "      <th>4</th>\n",
              "      <td>2.0</td>\n",
              "      <td>15.0</td>\n",
              "      <td>0.0</td>\n",
              "      <td>1.0</td>\n",
              "      <td>0.0</td>\n",
              "    </tr>\n",
              "    <tr>\n",
              "      <th>...</th>\n",
              "      <td>...</td>\n",
              "      <td>...</td>\n",
              "      <td>...</td>\n",
              "      <td>...</td>\n",
              "      <td>...</td>\n",
              "    </tr>\n",
              "    <tr>\n",
              "      <th>195</th>\n",
              "      <td>1.0</td>\n",
              "      <td>23.0</td>\n",
              "      <td>0.0</td>\n",
              "      <td>1.0</td>\n",
              "      <td>0.0</td>\n",
              "    </tr>\n",
              "    <tr>\n",
              "      <th>196</th>\n",
              "      <td>1.0</td>\n",
              "      <td>7.0</td>\n",
              "      <td>0.0</td>\n",
              "      <td>1.0</td>\n",
              "      <td>0.0</td>\n",
              "    </tr>\n",
              "    <tr>\n",
              "      <th>197</th>\n",
              "      <td>1.0</td>\n",
              "      <td>10.0</td>\n",
              "      <td>0.0</td>\n",
              "      <td>1.0</td>\n",
              "      <td>0.0</td>\n",
              "    </tr>\n",
              "    <tr>\n",
              "      <th>198</th>\n",
              "      <td>4.0</td>\n",
              "      <td>5.0</td>\n",
              "      <td>0.0</td>\n",
              "      <td>1.0</td>\n",
              "      <td>1.0</td>\n",
              "    </tr>\n",
              "    <tr>\n",
              "      <th>199</th>\n",
              "      <td>2.0</td>\n",
              "      <td>22.0</td>\n",
              "      <td>1.0</td>\n",
              "      <td>1.0</td>\n",
              "      <td>1.0</td>\n",
              "    </tr>\n",
              "  </tbody>\n",
              "</table>\n",
              "<p>200 rows × 5 columns</p>\n",
              "</div>\n",
              "      <button class=\"colab-df-convert\" onclick=\"convertToInteractive('df-ad26b78b-bfd5-4834-b8a4-ad492f66b7da')\"\n",
              "              title=\"Convert this dataframe to an interactive table.\"\n",
              "              style=\"display:none;\">\n",
              "        \n",
              "  <svg xmlns=\"http://www.w3.org/2000/svg\" height=\"24px\"viewBox=\"0 0 24 24\"\n",
              "       width=\"24px\">\n",
              "    <path d=\"M0 0h24v24H0V0z\" fill=\"none\"/>\n",
              "    <path d=\"M18.56 5.44l.94 2.06.94-2.06 2.06-.94-2.06-.94-.94-2.06-.94 2.06-2.06.94zm-11 1L8.5 8.5l.94-2.06 2.06-.94-2.06-.94L8.5 2.5l-.94 2.06-2.06.94zm10 10l.94 2.06.94-2.06 2.06-.94-2.06-.94-.94-2.06-.94 2.06-2.06.94z\"/><path d=\"M17.41 7.96l-1.37-1.37c-.4-.4-.92-.59-1.43-.59-.52 0-1.04.2-1.43.59L10.3 9.45l-7.72 7.72c-.78.78-.78 2.05 0 2.83L4 21.41c.39.39.9.59 1.41.59.51 0 1.02-.2 1.41-.59l7.78-7.78 2.81-2.81c.8-.78.8-2.07 0-2.86zM5.41 20L4 18.59l7.72-7.72 1.47 1.35L5.41 20z\"/>\n",
              "  </svg>\n",
              "      </button>\n",
              "      \n",
              "  <style>\n",
              "    .colab-df-container {\n",
              "      display:flex;\n",
              "      flex-wrap:wrap;\n",
              "      gap: 12px;\n",
              "    }\n",
              "\n",
              "    .colab-df-convert {\n",
              "      background-color: #E8F0FE;\n",
              "      border: none;\n",
              "      border-radius: 50%;\n",
              "      cursor: pointer;\n",
              "      display: none;\n",
              "      fill: #1967D2;\n",
              "      height: 32px;\n",
              "      padding: 0 0 0 0;\n",
              "      width: 32px;\n",
              "    }\n",
              "\n",
              "    .colab-df-convert:hover {\n",
              "      background-color: #E2EBFA;\n",
              "      box-shadow: 0px 1px 2px rgba(60, 64, 67, 0.3), 0px 1px 3px 1px rgba(60, 64, 67, 0.15);\n",
              "      fill: #174EA6;\n",
              "    }\n",
              "\n",
              "    [theme=dark] .colab-df-convert {\n",
              "      background-color: #3B4455;\n",
              "      fill: #D2E3FC;\n",
              "    }\n",
              "\n",
              "    [theme=dark] .colab-df-convert:hover {\n",
              "      background-color: #434B5C;\n",
              "      box-shadow: 0px 1px 3px 1px rgba(0, 0, 0, 0.15);\n",
              "      filter: drop-shadow(0px 1px 2px rgba(0, 0, 0, 0.3));\n",
              "      fill: #FFFFFF;\n",
              "    }\n",
              "  </style>\n",
              "\n",
              "      <script>\n",
              "        const buttonEl =\n",
              "          document.querySelector('#df-ad26b78b-bfd5-4834-b8a4-ad492f66b7da button.colab-df-convert');\n",
              "        buttonEl.style.display =\n",
              "          google.colab.kernel.accessAllowed ? 'block' : 'none';\n",
              "\n",
              "        async function convertToInteractive(key) {\n",
              "          const element = document.querySelector('#df-ad26b78b-bfd5-4834-b8a4-ad492f66b7da');\n",
              "          const dataTable =\n",
              "            await google.colab.kernel.invokeFunction('convertToInteractive',\n",
              "                                                     [key], {});\n",
              "          if (!dataTable) return;\n",
              "\n",
              "          const docLinkHtml = 'Like what you see? Visit the ' +\n",
              "            '<a target=\"_blank\" href=https://colab.research.google.com/notebooks/data_table.ipynb>data table notebook</a>'\n",
              "            + ' to learn more about interactive tables.';\n",
              "          element.innerHTML = '';\n",
              "          dataTable['output_type'] = 'display_data';\n",
              "          await google.colab.output.renderOutput(dataTable, element);\n",
              "          const docLink = document.createElement('div');\n",
              "          docLink.innerHTML = docLinkHtml;\n",
              "          element.appendChild(docLink);\n",
              "        }\n",
              "      </script>\n",
              "    </div>\n",
              "  </div>\n",
              "  "
            ]
          },
          "metadata": {}
        },
        {
          "output_type": "execute_result",
          "data": {
            "text/plain": [
              "array([1., 1., 0., 0., 0.])"
            ]
          },
          "metadata": {},
          "execution_count": 15
        }
      ]
    },
    {
      "cell_type": "code",
      "source": [
        "X = np.asanyarray(dff[[\"ed\",\"employ\",\"equip\",\"callcard\",\"wireless\"]])\n",
        "X[0:5]"
      ],
      "metadata": {
        "id": "dBPH5_HVaECT",
        "colab": {
          "base_uri": "https://localhost:8080/"
        },
        "outputId": "34eac434-7934-4d66-ed61-abb16c4b165b"
      },
      "execution_count": null,
      "outputs": [
        {
          "output_type": "execute_result",
          "data": {
            "text/plain": [
              "array([[ 5.,  5.,  0.,  1.,  1.],\n",
              "       [ 2.,  0.,  0.,  0.,  0.],\n",
              "       [ 1.,  2.,  0.,  0.,  0.],\n",
              "       [ 2., 10.,  1.,  1.,  1.],\n",
              "       [ 2., 15.,  0.,  1.,  0.]])"
            ]
          },
          "metadata": {},
          "execution_count": 16
        }
      ]
    },
    {
      "cell_type": "code",
      "source": [
        "from sklearn import preprocessing\n",
        "X = preprocessing.StandardScaler().fit(X).transform(X)\n",
        "X[0:5]"
      ],
      "metadata": {
        "id": "Vd9PdcCfaD_N",
        "colab": {
          "base_uri": "https://localhost:8080/"
        },
        "outputId": "925d6b56-aff1-483c-81c6-fb193b23fc22"
      },
      "execution_count": null,
      "outputs": [
        {
          "output_type": "execute_result",
          "data": {
            "text/plain": [
              "array([[ 1.6961288 , -0.58477841, -0.85972695,  0.64686916,  1.56469673],\n",
              "       [-0.6433592 , -1.14437497, -0.85972695, -1.54590766, -0.63910148],\n",
              "       [-1.42318853, -0.92053635, -0.85972695, -1.54590766, -0.63910148],\n",
              "       [-0.6433592 , -0.02518185,  1.16316   ,  0.64686916,  1.56469673],\n",
              "       [-0.6433592 ,  0.53441472, -0.85972695,  0.64686916, -0.63910148]])"
            ]
          },
          "metadata": {},
          "execution_count": 17
        }
      ]
    },
    {
      "cell_type": "code",
      "source": [
        "from sklearn.model_selection import train_test_split\n",
        "X_train, X_test, y_train, y_test = train_test_split( X, y, test_size=0.2, random_state=4)\n",
        "print ('Train set:', X_train.shape,  y_train.shape)\n",
        "print ('Test set:', X_test.shape,  y_test.shape)"
      ],
      "metadata": {
        "id": "-UqtUjAwaD8U",
        "colab": {
          "base_uri": "https://localhost:8080/"
        },
        "outputId": "c95b76ab-af1f-40b4-c608-a90e06e8c9d7"
      },
      "execution_count": null,
      "outputs": [
        {
          "output_type": "stream",
          "name": "stdout",
          "text": [
            "Train set: (160, 5) (160,)\n",
            "Test set: (40, 5) (40,)\n"
          ]
        }
      ]
    },
    {
      "cell_type": "code",
      "source": [
        "from sklearn.linear_model import LogisticRegression\n",
        "from sklearn.metrics import confusion_matrix\n",
        "LR = LogisticRegression(C=0.01, solver='liblinear').fit(X_train,y_train)\n",
        "LR"
      ],
      "metadata": {
        "id": "hoNMlMNwaDzb",
        "colab": {
          "base_uri": "https://localhost:8080/"
        },
        "outputId": "23d23d02-81e4-4c75-eda9-1f852dee5f88"
      },
      "execution_count": null,
      "outputs": [
        {
          "output_type": "execute_result",
          "data": {
            "text/plain": [
              "LogisticRegression(C=0.01, solver='liblinear')"
            ]
          },
          "metadata": {},
          "execution_count": 19
        }
      ]
    },
    {
      "cell_type": "code",
      "source": [
        "yhat = LR.predict(X_test)\n",
        "yhat"
      ],
      "metadata": {
        "colab": {
          "base_uri": "https://localhost:8080/"
        },
        "id": "t8wtZ8Zb0C_s",
        "outputId": "88aba3c6-1393-4b0f-d102-9bd44319bb55"
      },
      "execution_count": null,
      "outputs": [
        {
          "output_type": "execute_result",
          "data": {
            "text/plain": [
              "array([0., 0., 0., 0., 0., 0., 0., 0., 1., 0., 1., 0., 0., 1., 0., 0., 1.,\n",
              "       1., 1., 0., 1., 1., 0., 1., 0., 0., 1., 1., 0., 0., 0., 0., 1., 0.,\n",
              "       0., 0., 0., 0., 0., 1.])"
            ]
          },
          "metadata": {},
          "execution_count": 20
        }
      ]
    },
    {
      "cell_type": "code",
      "source": [
        "yhat_prob = LR.predict_proba(X_test)\n",
        "yhat_prob"
      ],
      "metadata": {
        "colab": {
          "base_uri": "https://localhost:8080/"
        },
        "id": "g6-prc4c0LIy",
        "outputId": "ea5dcc52-d8ea-48c7-d150-f7e7dd26cf58"
      },
      "execution_count": null,
      "outputs": [
        {
          "output_type": "execute_result",
          "data": {
            "text/plain": [
              "array([[0.56628588, 0.43371412],\n",
              "       [0.56512867, 0.43487133],\n",
              "       [0.5692309 , 0.4307691 ],\n",
              "       [0.66540031, 0.33459969],\n",
              "       [0.53373132, 0.46626868],\n",
              "       [0.64105839, 0.35894161],\n",
              "       [0.5218807 , 0.4781193 ],\n",
              "       [0.58920219, 0.41079781],\n",
              "       [0.45274683, 0.54725317],\n",
              "       [0.56448138, 0.43551862],\n",
              "       [0.48367103, 0.51632897],\n",
              "       [0.5377661 , 0.4622339 ],\n",
              "       [0.61409713, 0.38590287],\n",
              "       [0.45624138, 0.54375862],\n",
              "       [0.70304928, 0.29695072],\n",
              "       [0.53491585, 0.46508415],\n",
              "       [0.45624138, 0.54375862],\n",
              "       [0.44860984, 0.55139016],\n",
              "       [0.44229245, 0.55770755],\n",
              "       [0.60276889, 0.39723111],\n",
              "       [0.49305494, 0.50694506],\n",
              "       [0.46039879, 0.53960121],\n",
              "       [0.64369144, 0.35630856],\n",
              "       [0.48080925, 0.51919075],\n",
              "       [0.50260065, 0.49739935],\n",
              "       [0.67474799, 0.32525201],\n",
              "       [0.48015564, 0.51984436],\n",
              "       [0.4885077 , 0.5114923 ],\n",
              "       [0.54358463, 0.45641537],\n",
              "       [0.66853111, 0.33146889],\n",
              "       [0.65532641, 0.34467359],\n",
              "       [0.53906692, 0.46093308],\n",
              "       [0.45909063, 0.54090937],\n",
              "       [0.65651507, 0.34348493],\n",
              "       [0.61618713, 0.38381287],\n",
              "       [0.55883343, 0.44116657],\n",
              "       [0.53490773, 0.46509227],\n",
              "       [0.63659112, 0.36340888],\n",
              "       [0.61793012, 0.38206988],\n",
              "       [0.48146667, 0.51853333]])"
            ]
          },
          "metadata": {},
          "execution_count": 21
        }
      ]
    },
    {
      "cell_type": "code",
      "source": [
        "x=confusion_matrix(y_test, yhat)\n",
        "print(x)"
      ],
      "metadata": {
        "colab": {
          "base_uri": "https://localhost:8080/"
        },
        "id": "jLuThnx20VkQ",
        "outputId": "3cf5e8b5-ee17-40d2-db94-3b2480c7e02b"
      },
      "execution_count": null,
      "outputs": [
        {
          "output_type": "stream",
          "name": "stdout",
          "text": [
            "[[18  7]\n",
            " [ 9  6]]\n"
          ]
        }
      ]
    },
    {
      "cell_type": "code",
      "source": [
        "print((x[0,0]+x[1,1])/(x[0,0]+x[1,1]+x[0,1]+x[1,0]))"
      ],
      "metadata": {
        "colab": {
          "base_uri": "https://localhost:8080/"
        },
        "id": "0xJ1B3Uo0dWQ",
        "outputId": "547a30e6-adcf-467b-989a-d2817f3899cc"
      },
      "execution_count": null,
      "outputs": [
        {
          "output_type": "stream",
          "name": "stdout",
          "text": [
            "0.6\n"
          ]
        }
      ]
    },
    {
      "cell_type": "code",
      "source": [
        "df2=df[[\"loglong\",\"logtoll\",\"lninc\",\"custcat\"]]\n",
        "display(df2)\n",
        "y = np.asanyarray(df['churn'])\n",
        "y [0:5]"
      ],
      "metadata": {
        "colab": {
          "base_uri": "https://localhost:8080/",
          "height": 441
        },
        "id": "WQ1cN5XD7rxR",
        "outputId": "591ec6bd-5ada-4fa2-932f-0f355d3f9bf7"
      },
      "execution_count": null,
      "outputs": [
        {
          "output_type": "display_data",
          "data": {
            "text/plain": [
              "     loglong  logtoll  lninc  custcat\n",
              "0      1.482    3.033  4.913      4.0\n",
              "1      2.246    3.240  3.497      1.0\n",
              "2      1.841    3.240  3.401      3.0\n",
              "3      1.800    3.807  4.331      4.0\n",
              "4      1.960    3.091  4.382      3.0\n",
              "..       ...      ...    ...      ...\n",
              "195    2.854    3.199  4.419      3.0\n",
              "196    1.792    3.332  3.178      3.0\n",
              "197    1.348    3.168  3.850      3.0\n",
              "198    2.163    3.866  3.219      4.0\n",
              "199    2.824    3.240  5.247      2.0\n",
              "\n",
              "[200 rows x 4 columns]"
            ],
            "text/html": [
              "\n",
              "  <div id=\"df-4aac4825-ea7f-4902-b9fb-e2f544c2c7bd\">\n",
              "    <div class=\"colab-df-container\">\n",
              "      <div>\n",
              "<style scoped>\n",
              "    .dataframe tbody tr th:only-of-type {\n",
              "        vertical-align: middle;\n",
              "    }\n",
              "\n",
              "    .dataframe tbody tr th {\n",
              "        vertical-align: top;\n",
              "    }\n",
              "\n",
              "    .dataframe thead th {\n",
              "        text-align: right;\n",
              "    }\n",
              "</style>\n",
              "<table border=\"1\" class=\"dataframe\">\n",
              "  <thead>\n",
              "    <tr style=\"text-align: right;\">\n",
              "      <th></th>\n",
              "      <th>loglong</th>\n",
              "      <th>logtoll</th>\n",
              "      <th>lninc</th>\n",
              "      <th>custcat</th>\n",
              "    </tr>\n",
              "  </thead>\n",
              "  <tbody>\n",
              "    <tr>\n",
              "      <th>0</th>\n",
              "      <td>1.482</td>\n",
              "      <td>3.033</td>\n",
              "      <td>4.913</td>\n",
              "      <td>4.0</td>\n",
              "    </tr>\n",
              "    <tr>\n",
              "      <th>1</th>\n",
              "      <td>2.246</td>\n",
              "      <td>3.240</td>\n",
              "      <td>3.497</td>\n",
              "      <td>1.0</td>\n",
              "    </tr>\n",
              "    <tr>\n",
              "      <th>2</th>\n",
              "      <td>1.841</td>\n",
              "      <td>3.240</td>\n",
              "      <td>3.401</td>\n",
              "      <td>3.0</td>\n",
              "    </tr>\n",
              "    <tr>\n",
              "      <th>3</th>\n",
              "      <td>1.800</td>\n",
              "      <td>3.807</td>\n",
              "      <td>4.331</td>\n",
              "      <td>4.0</td>\n",
              "    </tr>\n",
              "    <tr>\n",
              "      <th>4</th>\n",
              "      <td>1.960</td>\n",
              "      <td>3.091</td>\n",
              "      <td>4.382</td>\n",
              "      <td>3.0</td>\n",
              "    </tr>\n",
              "    <tr>\n",
              "      <th>...</th>\n",
              "      <td>...</td>\n",
              "      <td>...</td>\n",
              "      <td>...</td>\n",
              "      <td>...</td>\n",
              "    </tr>\n",
              "    <tr>\n",
              "      <th>195</th>\n",
              "      <td>2.854</td>\n",
              "      <td>3.199</td>\n",
              "      <td>4.419</td>\n",
              "      <td>3.0</td>\n",
              "    </tr>\n",
              "    <tr>\n",
              "      <th>196</th>\n",
              "      <td>1.792</td>\n",
              "      <td>3.332</td>\n",
              "      <td>3.178</td>\n",
              "      <td>3.0</td>\n",
              "    </tr>\n",
              "    <tr>\n",
              "      <th>197</th>\n",
              "      <td>1.348</td>\n",
              "      <td>3.168</td>\n",
              "      <td>3.850</td>\n",
              "      <td>3.0</td>\n",
              "    </tr>\n",
              "    <tr>\n",
              "      <th>198</th>\n",
              "      <td>2.163</td>\n",
              "      <td>3.866</td>\n",
              "      <td>3.219</td>\n",
              "      <td>4.0</td>\n",
              "    </tr>\n",
              "    <tr>\n",
              "      <th>199</th>\n",
              "      <td>2.824</td>\n",
              "      <td>3.240</td>\n",
              "      <td>5.247</td>\n",
              "      <td>2.0</td>\n",
              "    </tr>\n",
              "  </tbody>\n",
              "</table>\n",
              "<p>200 rows × 4 columns</p>\n",
              "</div>\n",
              "      <button class=\"colab-df-convert\" onclick=\"convertToInteractive('df-4aac4825-ea7f-4902-b9fb-e2f544c2c7bd')\"\n",
              "              title=\"Convert this dataframe to an interactive table.\"\n",
              "              style=\"display:none;\">\n",
              "        \n",
              "  <svg xmlns=\"http://www.w3.org/2000/svg\" height=\"24px\"viewBox=\"0 0 24 24\"\n",
              "       width=\"24px\">\n",
              "    <path d=\"M0 0h24v24H0V0z\" fill=\"none\"/>\n",
              "    <path d=\"M18.56 5.44l.94 2.06.94-2.06 2.06-.94-2.06-.94-.94-2.06-.94 2.06-2.06.94zm-11 1L8.5 8.5l.94-2.06 2.06-.94-2.06-.94L8.5 2.5l-.94 2.06-2.06.94zm10 10l.94 2.06.94-2.06 2.06-.94-2.06-.94-.94-2.06-.94 2.06-2.06.94z\"/><path d=\"M17.41 7.96l-1.37-1.37c-.4-.4-.92-.59-1.43-.59-.52 0-1.04.2-1.43.59L10.3 9.45l-7.72 7.72c-.78.78-.78 2.05 0 2.83L4 21.41c.39.39.9.59 1.41.59.51 0 1.02-.2 1.41-.59l7.78-7.78 2.81-2.81c.8-.78.8-2.07 0-2.86zM5.41 20L4 18.59l7.72-7.72 1.47 1.35L5.41 20z\"/>\n",
              "  </svg>\n",
              "      </button>\n",
              "      \n",
              "  <style>\n",
              "    .colab-df-container {\n",
              "      display:flex;\n",
              "      flex-wrap:wrap;\n",
              "      gap: 12px;\n",
              "    }\n",
              "\n",
              "    .colab-df-convert {\n",
              "      background-color: #E8F0FE;\n",
              "      border: none;\n",
              "      border-radius: 50%;\n",
              "      cursor: pointer;\n",
              "      display: none;\n",
              "      fill: #1967D2;\n",
              "      height: 32px;\n",
              "      padding: 0 0 0 0;\n",
              "      width: 32px;\n",
              "    }\n",
              "\n",
              "    .colab-df-convert:hover {\n",
              "      background-color: #E2EBFA;\n",
              "      box-shadow: 0px 1px 2px rgba(60, 64, 67, 0.3), 0px 1px 3px 1px rgba(60, 64, 67, 0.15);\n",
              "      fill: #174EA6;\n",
              "    }\n",
              "\n",
              "    [theme=dark] .colab-df-convert {\n",
              "      background-color: #3B4455;\n",
              "      fill: #D2E3FC;\n",
              "    }\n",
              "\n",
              "    [theme=dark] .colab-df-convert:hover {\n",
              "      background-color: #434B5C;\n",
              "      box-shadow: 0px 1px 3px 1px rgba(0, 0, 0, 0.15);\n",
              "      filter: drop-shadow(0px 1px 2px rgba(0, 0, 0, 0.3));\n",
              "      fill: #FFFFFF;\n",
              "    }\n",
              "  </style>\n",
              "\n",
              "      <script>\n",
              "        const buttonEl =\n",
              "          document.querySelector('#df-4aac4825-ea7f-4902-b9fb-e2f544c2c7bd button.colab-df-convert');\n",
              "        buttonEl.style.display =\n",
              "          google.colab.kernel.accessAllowed ? 'block' : 'none';\n",
              "\n",
              "        async function convertToInteractive(key) {\n",
              "          const element = document.querySelector('#df-4aac4825-ea7f-4902-b9fb-e2f544c2c7bd');\n",
              "          const dataTable =\n",
              "            await google.colab.kernel.invokeFunction('convertToInteractive',\n",
              "                                                     [key], {});\n",
              "          if (!dataTable) return;\n",
              "\n",
              "          const docLinkHtml = 'Like what you see? Visit the ' +\n",
              "            '<a target=\"_blank\" href=https://colab.research.google.com/notebooks/data_table.ipynb>data table notebook</a>'\n",
              "            + ' to learn more about interactive tables.';\n",
              "          element.innerHTML = '';\n",
              "          dataTable['output_type'] = 'display_data';\n",
              "          await google.colab.output.renderOutput(dataTable, element);\n",
              "          const docLink = document.createElement('div');\n",
              "          docLink.innerHTML = docLinkHtml;\n",
              "          element.appendChild(docLink);\n",
              "        }\n",
              "      </script>\n",
              "    </div>\n",
              "  </div>\n",
              "  "
            ]
          },
          "metadata": {}
        },
        {
          "output_type": "execute_result",
          "data": {
            "text/plain": [
              "array([1., 1., 0., 0., 0.])"
            ]
          },
          "metadata": {},
          "execution_count": 24
        }
      ]
    },
    {
      "cell_type": "code",
      "source": [
        "X = np.asanyarray(df2[[\"loglong\",\"logtoll\",\"lninc\",\"custcat\"]])\n",
        "X[0:5]"
      ],
      "metadata": {
        "colab": {
          "base_uri": "https://localhost:8080/"
        },
        "id": "18hqTyE08Elu",
        "outputId": "17b0dc13-30b8-42df-9240-105f9717c59e"
      },
      "execution_count": null,
      "outputs": [
        {
          "output_type": "execute_result",
          "data": {
            "text/plain": [
              "array([[1.482, 3.033, 4.913, 4.   ],\n",
              "       [2.246, 3.24 , 3.497, 1.   ],\n",
              "       [1.841, 3.24 , 3.401, 3.   ],\n",
              "       [1.8  , 3.807, 4.331, 4.   ],\n",
              "       [1.96 , 3.091, 4.382, 3.   ]])"
            ]
          },
          "metadata": {},
          "execution_count": 25
        }
      ]
    },
    {
      "cell_type": "code",
      "source": [
        "from sklearn import preprocessing\n",
        "X = preprocessing.StandardScaler().fit(X).transform(X)\n",
        "X[0:5]"
      ],
      "metadata": {
        "colab": {
          "base_uri": "https://localhost:8080/"
        },
        "id": "iwXeIH7x8QK2",
        "outputId": "9546a2f7-8ddf-4f5e-c641-7de31464d472"
      },
      "execution_count": null,
      "outputs": [
        {
          "output_type": "execute_result",
          "data": {
            "text/plain": [
              "array([[-0.97509593, -0.69987184,  1.28150384,  1.41630855],\n",
              "       [ 0.07226665,  0.03858151, -0.60481397, -1.36987221],\n",
              "       [-0.48294519,  0.03858151, -0.73269992,  0.48758163],\n",
              "       [-0.53915182,  2.06130155,  0.50619525,  1.41630855],\n",
              "       [-0.31980887, -0.4929622 ,  0.57413466,  0.48758163]])"
            ]
          },
          "metadata": {},
          "execution_count": 26
        }
      ]
    },
    {
      "cell_type": "code",
      "source": [
        "from sklearn.model_selection import train_test_split\n",
        "X_train, X_test, y_train, y_test = train_test_split( X, y, test_size=0.2, random_state=4)\n",
        "print ('Train set:', X_train.shape,  y_train.shape)\n",
        "print ('Test set:', X_test.shape,  y_test.shape)"
      ],
      "metadata": {
        "colab": {
          "base_uri": "https://localhost:8080/"
        },
        "id": "dGdlcvib8XNM",
        "outputId": "9f3323b9-c417-44b8-91ff-a6a8453fdbb7"
      },
      "execution_count": null,
      "outputs": [
        {
          "output_type": "stream",
          "name": "stdout",
          "text": [
            "Train set: (160, 4) (160,)\n",
            "Test set: (40, 4) (40,)\n"
          ]
        }
      ]
    },
    {
      "cell_type": "code",
      "source": [
        "from sklearn.linear_model import LogisticRegression\n",
        "from sklearn.metrics import confusion_matrix\n",
        "LR = LogisticRegression(C=0.01, solver='liblinear').fit(X_train,y_train)\n",
        "LR"
      ],
      "metadata": {
        "colab": {
          "base_uri": "https://localhost:8080/"
        },
        "id": "DuYl68xs8glD",
        "outputId": "769c0c1b-2f92-43fd-d053-0ac2ffa842bf"
      },
      "execution_count": null,
      "outputs": [
        {
          "output_type": "execute_result",
          "data": {
            "text/plain": [
              "LogisticRegression(C=0.01, solver='liblinear')"
            ]
          },
          "metadata": {},
          "execution_count": 28
        }
      ]
    },
    {
      "cell_type": "code",
      "source": [
        "yhat = LR.predict(X_test)\n",
        "yhat"
      ],
      "metadata": {
        "colab": {
          "base_uri": "https://localhost:8080/"
        },
        "id": "DEGOxbOY8icL",
        "outputId": "eca6b1e5-8eb1-4f89-a7a5-77dc58dcf9d5"
      },
      "execution_count": null,
      "outputs": [
        {
          "output_type": "execute_result",
          "data": {
            "text/plain": [
              "array([0., 0., 0., 0., 0., 0., 0., 0., 0., 0., 0., 0., 1., 0., 0., 0., 0.,\n",
              "       0., 0., 0., 0., 0., 0., 0., 0., 0., 0., 0., 0., 0., 0., 0., 1., 0.,\n",
              "       0., 0., 1., 0., 0., 0.])"
            ]
          },
          "metadata": {},
          "execution_count": 29
        }
      ]
    },
    {
      "cell_type": "code",
      "source": [
        "yhat_prob = LR.predict_proba(X_test)\n",
        "yhat_prob"
      ],
      "metadata": {
        "colab": {
          "base_uri": "https://localhost:8080/"
        },
        "id": "K_ZKJ8RX8p3s",
        "outputId": "9e4f553b-0293-45a7-c3d3-e60bec0bccae"
      },
      "execution_count": null,
      "outputs": [
        {
          "output_type": "execute_result",
          "data": {
            "text/plain": [
              "array([[0.62553154, 0.37446846],\n",
              "       [0.58697623, 0.41302377],\n",
              "       [0.59435234, 0.40564766],\n",
              "       [0.60410131, 0.39589869],\n",
              "       [0.58493892, 0.41506108],\n",
              "       [0.52364855, 0.47635145],\n",
              "       [0.55719527, 0.44280473],\n",
              "       [0.59570558, 0.40429442],\n",
              "       [0.52447683, 0.47552317],\n",
              "       [0.58574731, 0.41425269],\n",
              "       [0.57441497, 0.42558503],\n",
              "       [0.62146797, 0.37853203],\n",
              "       [0.4578851 , 0.5421149 ],\n",
              "       [0.5258163 , 0.4741837 ],\n",
              "       [0.52223697, 0.47776303],\n",
              "       [0.56890684, 0.43109316],\n",
              "       [0.5545133 , 0.4454867 ],\n",
              "       [0.58946354, 0.41053646],\n",
              "       [0.55347801, 0.44652199],\n",
              "       [0.52095669, 0.47904331],\n",
              "       [0.54428986, 0.45571014],\n",
              "       [0.55481473, 0.44518527],\n",
              "       [0.65673878, 0.34326122],\n",
              "       [0.52838472, 0.47161528],\n",
              "       [0.58558362, 0.41441638],\n",
              "       [0.57065627, 0.42934373],\n",
              "       [0.51755422, 0.48244578],\n",
              "       [0.53419354, 0.46580646],\n",
              "       [0.56106618, 0.43893382],\n",
              "       [0.67022244, 0.32977756],\n",
              "       [0.59657967, 0.40342033],\n",
              "       [0.61720666, 0.38279334],\n",
              "       [0.4930687 , 0.5069313 ],\n",
              "       [0.57630951, 0.42369049],\n",
              "       [0.63617025, 0.36382975],\n",
              "       [0.55761117, 0.44238883],\n",
              "       [0.44080701, 0.55919299],\n",
              "       [0.57204781, 0.42795219],\n",
              "       [0.68001088, 0.31998912],\n",
              "       [0.56395082, 0.43604918]])"
            ]
          },
          "metadata": {},
          "execution_count": 30
        }
      ]
    },
    {
      "cell_type": "code",
      "source": [
        "x=confusion_matrix(y_test, yhat)\n",
        "print(x)"
      ],
      "metadata": {
        "colab": {
          "base_uri": "https://localhost:8080/"
        },
        "id": "aoFSDsrS8uKP",
        "outputId": "46b4a09f-9633-4c4a-d23c-cb001d1cab53"
      },
      "execution_count": null,
      "outputs": [
        {
          "output_type": "stream",
          "name": "stdout",
          "text": [
            "[[24  1]\n",
            " [13  2]]\n"
          ]
        }
      ]
    },
    {
      "cell_type": "code",
      "source": [
        "print((x[0,0]+x[1,1])/(x[0,0]+x[1,1]+x[0,1]+x[1,0]))"
      ],
      "metadata": {
        "colab": {
          "base_uri": "https://localhost:8080/"
        },
        "id": "Bf9G11r88zbK",
        "outputId": "e687fea5-4516-4777-cc58-fce2e35ec732"
      },
      "execution_count": null,
      "outputs": [
        {
          "output_type": "stream",
          "name": "stdout",
          "text": [
            "0.65\n"
          ]
        }
      ]
    },
    {
      "cell_type": "code",
      "source": [
        "df3=df[[\"longmon\",\"pager\",\"internet\",\"callwait\",\"confer\"]]\n",
        "display(df3)\n",
        "y = np.asanyarray(df['churn'])\n",
        "y [0:5]"
      ],
      "metadata": {
        "colab": {
          "base_uri": "https://localhost:8080/",
          "height": 441
        },
        "id": "KHkiKofv87uy",
        "outputId": "b510a46e-1fa4-4831-bde0-dda546ed652b"
      },
      "execution_count": null,
      "outputs": [
        {
          "output_type": "display_data",
          "data": {
            "text/plain": [
              "     longmon  pager  internet  callwait  confer\n",
              "0       4.40    1.0       0.0       1.0     1.0\n",
              "1       9.45    0.0       0.0       0.0     0.0\n",
              "2       6.30    0.0       0.0       0.0     1.0\n",
              "3       6.05    1.0       1.0       1.0     1.0\n",
              "4       7.10    0.0       0.0       1.0     1.0\n",
              "..       ...    ...       ...       ...     ...\n",
              "195    17.35    0.0       0.0       0.0     1.0\n",
              "196     6.00    0.0       0.0       1.0     1.0\n",
              "197     3.85    0.0       0.0       1.0     1.0\n",
              "198     8.70    1.0       1.0       1.0     1.0\n",
              "199    16.85    0.0       1.0       0.0     0.0\n",
              "\n",
              "[200 rows x 5 columns]"
            ],
            "text/html": [
              "\n",
              "  <div id=\"df-7ef2d685-db84-44e3-a2ed-6acde2e35ac1\">\n",
              "    <div class=\"colab-df-container\">\n",
              "      <div>\n",
              "<style scoped>\n",
              "    .dataframe tbody tr th:only-of-type {\n",
              "        vertical-align: middle;\n",
              "    }\n",
              "\n",
              "    .dataframe tbody tr th {\n",
              "        vertical-align: top;\n",
              "    }\n",
              "\n",
              "    .dataframe thead th {\n",
              "        text-align: right;\n",
              "    }\n",
              "</style>\n",
              "<table border=\"1\" class=\"dataframe\">\n",
              "  <thead>\n",
              "    <tr style=\"text-align: right;\">\n",
              "      <th></th>\n",
              "      <th>longmon</th>\n",
              "      <th>pager</th>\n",
              "      <th>internet</th>\n",
              "      <th>callwait</th>\n",
              "      <th>confer</th>\n",
              "    </tr>\n",
              "  </thead>\n",
              "  <tbody>\n",
              "    <tr>\n",
              "      <th>0</th>\n",
              "      <td>4.40</td>\n",
              "      <td>1.0</td>\n",
              "      <td>0.0</td>\n",
              "      <td>1.0</td>\n",
              "      <td>1.0</td>\n",
              "    </tr>\n",
              "    <tr>\n",
              "      <th>1</th>\n",
              "      <td>9.45</td>\n",
              "      <td>0.0</td>\n",
              "      <td>0.0</td>\n",
              "      <td>0.0</td>\n",
              "      <td>0.0</td>\n",
              "    </tr>\n",
              "    <tr>\n",
              "      <th>2</th>\n",
              "      <td>6.30</td>\n",
              "      <td>0.0</td>\n",
              "      <td>0.0</td>\n",
              "      <td>0.0</td>\n",
              "      <td>1.0</td>\n",
              "    </tr>\n",
              "    <tr>\n",
              "      <th>3</th>\n",
              "      <td>6.05</td>\n",
              "      <td>1.0</td>\n",
              "      <td>1.0</td>\n",
              "      <td>1.0</td>\n",
              "      <td>1.0</td>\n",
              "    </tr>\n",
              "    <tr>\n",
              "      <th>4</th>\n",
              "      <td>7.10</td>\n",
              "      <td>0.0</td>\n",
              "      <td>0.0</td>\n",
              "      <td>1.0</td>\n",
              "      <td>1.0</td>\n",
              "    </tr>\n",
              "    <tr>\n",
              "      <th>...</th>\n",
              "      <td>...</td>\n",
              "      <td>...</td>\n",
              "      <td>...</td>\n",
              "      <td>...</td>\n",
              "      <td>...</td>\n",
              "    </tr>\n",
              "    <tr>\n",
              "      <th>195</th>\n",
              "      <td>17.35</td>\n",
              "      <td>0.0</td>\n",
              "      <td>0.0</td>\n",
              "      <td>0.0</td>\n",
              "      <td>1.0</td>\n",
              "    </tr>\n",
              "    <tr>\n",
              "      <th>196</th>\n",
              "      <td>6.00</td>\n",
              "      <td>0.0</td>\n",
              "      <td>0.0</td>\n",
              "      <td>1.0</td>\n",
              "      <td>1.0</td>\n",
              "    </tr>\n",
              "    <tr>\n",
              "      <th>197</th>\n",
              "      <td>3.85</td>\n",
              "      <td>0.0</td>\n",
              "      <td>0.0</td>\n",
              "      <td>1.0</td>\n",
              "      <td>1.0</td>\n",
              "    </tr>\n",
              "    <tr>\n",
              "      <th>198</th>\n",
              "      <td>8.70</td>\n",
              "      <td>1.0</td>\n",
              "      <td>1.0</td>\n",
              "      <td>1.0</td>\n",
              "      <td>1.0</td>\n",
              "    </tr>\n",
              "    <tr>\n",
              "      <th>199</th>\n",
              "      <td>16.85</td>\n",
              "      <td>0.0</td>\n",
              "      <td>1.0</td>\n",
              "      <td>0.0</td>\n",
              "      <td>0.0</td>\n",
              "    </tr>\n",
              "  </tbody>\n",
              "</table>\n",
              "<p>200 rows × 5 columns</p>\n",
              "</div>\n",
              "      <button class=\"colab-df-convert\" onclick=\"convertToInteractive('df-7ef2d685-db84-44e3-a2ed-6acde2e35ac1')\"\n",
              "              title=\"Convert this dataframe to an interactive table.\"\n",
              "              style=\"display:none;\">\n",
              "        \n",
              "  <svg xmlns=\"http://www.w3.org/2000/svg\" height=\"24px\"viewBox=\"0 0 24 24\"\n",
              "       width=\"24px\">\n",
              "    <path d=\"M0 0h24v24H0V0z\" fill=\"none\"/>\n",
              "    <path d=\"M18.56 5.44l.94 2.06.94-2.06 2.06-.94-2.06-.94-.94-2.06-.94 2.06-2.06.94zm-11 1L8.5 8.5l.94-2.06 2.06-.94-2.06-.94L8.5 2.5l-.94 2.06-2.06.94zm10 10l.94 2.06.94-2.06 2.06-.94-2.06-.94-.94-2.06-.94 2.06-2.06.94z\"/><path d=\"M17.41 7.96l-1.37-1.37c-.4-.4-.92-.59-1.43-.59-.52 0-1.04.2-1.43.59L10.3 9.45l-7.72 7.72c-.78.78-.78 2.05 0 2.83L4 21.41c.39.39.9.59 1.41.59.51 0 1.02-.2 1.41-.59l7.78-7.78 2.81-2.81c.8-.78.8-2.07 0-2.86zM5.41 20L4 18.59l7.72-7.72 1.47 1.35L5.41 20z\"/>\n",
              "  </svg>\n",
              "      </button>\n",
              "      \n",
              "  <style>\n",
              "    .colab-df-container {\n",
              "      display:flex;\n",
              "      flex-wrap:wrap;\n",
              "      gap: 12px;\n",
              "    }\n",
              "\n",
              "    .colab-df-convert {\n",
              "      background-color: #E8F0FE;\n",
              "      border: none;\n",
              "      border-radius: 50%;\n",
              "      cursor: pointer;\n",
              "      display: none;\n",
              "      fill: #1967D2;\n",
              "      height: 32px;\n",
              "      padding: 0 0 0 0;\n",
              "      width: 32px;\n",
              "    }\n",
              "\n",
              "    .colab-df-convert:hover {\n",
              "      background-color: #E2EBFA;\n",
              "      box-shadow: 0px 1px 2px rgba(60, 64, 67, 0.3), 0px 1px 3px 1px rgba(60, 64, 67, 0.15);\n",
              "      fill: #174EA6;\n",
              "    }\n",
              "\n",
              "    [theme=dark] .colab-df-convert {\n",
              "      background-color: #3B4455;\n",
              "      fill: #D2E3FC;\n",
              "    }\n",
              "\n",
              "    [theme=dark] .colab-df-convert:hover {\n",
              "      background-color: #434B5C;\n",
              "      box-shadow: 0px 1px 3px 1px rgba(0, 0, 0, 0.15);\n",
              "      filter: drop-shadow(0px 1px 2px rgba(0, 0, 0, 0.3));\n",
              "      fill: #FFFFFF;\n",
              "    }\n",
              "  </style>\n",
              "\n",
              "      <script>\n",
              "        const buttonEl =\n",
              "          document.querySelector('#df-7ef2d685-db84-44e3-a2ed-6acde2e35ac1 button.colab-df-convert');\n",
              "        buttonEl.style.display =\n",
              "          google.colab.kernel.accessAllowed ? 'block' : 'none';\n",
              "\n",
              "        async function convertToInteractive(key) {\n",
              "          const element = document.querySelector('#df-7ef2d685-db84-44e3-a2ed-6acde2e35ac1');\n",
              "          const dataTable =\n",
              "            await google.colab.kernel.invokeFunction('convertToInteractive',\n",
              "                                                     [key], {});\n",
              "          if (!dataTable) return;\n",
              "\n",
              "          const docLinkHtml = 'Like what you see? Visit the ' +\n",
              "            '<a target=\"_blank\" href=https://colab.research.google.com/notebooks/data_table.ipynb>data table notebook</a>'\n",
              "            + ' to learn more about interactive tables.';\n",
              "          element.innerHTML = '';\n",
              "          dataTable['output_type'] = 'display_data';\n",
              "          await google.colab.output.renderOutput(dataTable, element);\n",
              "          const docLink = document.createElement('div');\n",
              "          docLink.innerHTML = docLinkHtml;\n",
              "          element.appendChild(docLink);\n",
              "        }\n",
              "      </script>\n",
              "    </div>\n",
              "  </div>\n",
              "  "
            ]
          },
          "metadata": {}
        },
        {
          "output_type": "execute_result",
          "data": {
            "text/plain": [
              "array([1., 1., 0., 0., 0.])"
            ]
          },
          "metadata": {},
          "execution_count": 34
        }
      ]
    },
    {
      "cell_type": "code",
      "source": [
        "X = np.asanyarray(df3[[\"longmon\",\"pager\",\"internet\",\"callwait\",\"confer\"]])\n",
        "X[0:5]"
      ],
      "metadata": {
        "colab": {
          "base_uri": "https://localhost:8080/"
        },
        "id": "_s-E4vAU9ahw",
        "outputId": "b80be0e6-0a90-4a95-890b-2d05915b8a70"
      },
      "execution_count": null,
      "outputs": [
        {
          "output_type": "execute_result",
          "data": {
            "text/plain": [
              "array([[4.4 , 1.  , 0.  , 1.  , 1.  ],\n",
              "       [9.45, 0.  , 0.  , 0.  , 0.  ],\n",
              "       [6.3 , 0.  , 0.  , 0.  , 1.  ],\n",
              "       [6.05, 1.  , 1.  , 1.  , 1.  ],\n",
              "       [7.1 , 0.  , 0.  , 1.  , 1.  ]])"
            ]
          },
          "metadata": {},
          "execution_count": 35
        }
      ]
    },
    {
      "cell_type": "code",
      "source": [
        "from sklearn import preprocessing\n",
        "X = preprocessing.StandardScaler().fit(X).transform(X)\n",
        "X[0:5]"
      ],
      "metadata": {
        "colab": {
          "base_uri": "https://localhost:8080/"
        },
        "id": "L88EVjWX9gCQ",
        "outputId": "70aac172-be31-4a7b-976b-d2c8c1474d73"
      },
      "execution_count": null,
      "outputs": [
        {
          "output_type": "execute_result",
          "data": {
            "text/plain": [
              "array([[-0.74922681,  1.62368828, -0.88640526,  1.0944415 ,  1.08347268],\n",
              "       [-0.23718629, -0.61588176, -0.88640526, -0.91370804, -0.92295821],\n",
              "       [-0.5565779 , -0.61588176, -0.88640526, -0.91370804,  1.08347268],\n",
              "       [-0.58192644,  1.62368828,  1.12815215,  1.0944415 ,  1.08347268],\n",
              "       [-0.47546257, -0.61588176, -0.88640526,  1.0944415 ,  1.08347268]])"
            ]
          },
          "metadata": {},
          "execution_count": 36
        }
      ]
    },
    {
      "cell_type": "code",
      "source": [
        "from sklearn.model_selection import train_test_split\n",
        "X_train, X_test, y_train, y_test = train_test_split( X, y, test_size=0.2, random_state=4)\n",
        "print ('Train set:', X_train.shape,  y_train.shape)\n",
        "print ('Test set:', X_test.shape,  y_test.shape)"
      ],
      "metadata": {
        "colab": {
          "base_uri": "https://localhost:8080/"
        },
        "id": "zXyXSTv79rf-",
        "outputId": "3e8f5604-6a41-4bcd-ce44-02c0a5febe71"
      },
      "execution_count": null,
      "outputs": [
        {
          "output_type": "stream",
          "name": "stdout",
          "text": [
            "Train set: (160, 5) (160,)\n",
            "Test set: (40, 5) (40,)\n"
          ]
        }
      ]
    },
    {
      "cell_type": "code",
      "source": [
        "from sklearn.linear_model import LogisticRegression\n",
        "from sklearn.metrics import confusion_matrix\n",
        "LR = LogisticRegression(C=0.01, solver='liblinear').fit(X_train,y_train)\n",
        "LR"
      ],
      "metadata": {
        "colab": {
          "base_uri": "https://localhost:8080/"
        },
        "id": "GV_Ilx1V9y2j",
        "outputId": "7612fb83-eec1-44b6-b46d-48688eeaf75e"
      },
      "execution_count": null,
      "outputs": [
        {
          "output_type": "execute_result",
          "data": {
            "text/plain": [
              "LogisticRegression(C=0.01, solver='liblinear')"
            ]
          },
          "metadata": {},
          "execution_count": 38
        }
      ]
    },
    {
      "cell_type": "code",
      "source": [
        "yhat = LR.predict(X_test)\n",
        "yhat"
      ],
      "metadata": {
        "colab": {
          "base_uri": "https://localhost:8080/"
        },
        "id": "fSWYFRG793qH",
        "outputId": "a98c00e8-d783-49d2-8654-7ee247f63c0d"
      },
      "execution_count": null,
      "outputs": [
        {
          "output_type": "execute_result",
          "data": {
            "text/plain": [
              "array([0., 0., 0., 0., 0., 0., 0., 0., 0., 0., 0., 0., 0., 0., 0., 0., 0.,\n",
              "       0., 0., 0., 0., 0., 0., 1., 0., 0., 0., 0., 0., 0., 0., 0., 1., 0.,\n",
              "       0., 0., 0., 0., 0., 0.])"
            ]
          },
          "metadata": {},
          "execution_count": 39
        }
      ]
    },
    {
      "cell_type": "code",
      "source": [
        "yhat_prob = LR.predict_proba(X_test)\n",
        "yhat_prob"
      ],
      "metadata": {
        "colab": {
          "base_uri": "https://localhost:8080/"
        },
        "id": "Ei-rlKem9_BM",
        "outputId": "8745297d-175b-4e76-c102-dd9526b65f05"
      },
      "execution_count": null,
      "outputs": [
        {
          "output_type": "execute_result",
          "data": {
            "text/plain": [
              "array([[0.57165987, 0.42834013],\n",
              "       [0.57949629, 0.42050371],\n",
              "       [0.60454054, 0.39545946],\n",
              "       [0.54738066, 0.45261934],\n",
              "       [0.59450083, 0.40549917],\n",
              "       [0.57210966, 0.42789034],\n",
              "       [0.58007151, 0.41992849],\n",
              "       [0.64347337, 0.35652663],\n",
              "       [0.51368007, 0.48631993],\n",
              "       [0.51592291, 0.48407709],\n",
              "       [0.50175297, 0.49824703],\n",
              "       [0.56174005, 0.43825995],\n",
              "       [0.57562505, 0.42437495],\n",
              "       [0.51545048, 0.48454952],\n",
              "       [0.58374134, 0.41625866],\n",
              "       [0.59563215, 0.40436785],\n",
              "       [0.5388826 , 0.4611174 ],\n",
              "       [0.5470332 , 0.4529668 ],\n",
              "       [0.52553308, 0.47446692],\n",
              "       [0.5432126 , 0.4567874 ],\n",
              "       [0.54233312, 0.45766688],\n",
              "       [0.50848544, 0.49151456],\n",
              "       [0.70178083, 0.29821917],\n",
              "       [0.48032298, 0.51967702],\n",
              "       [0.5182902 , 0.4817098 ],\n",
              "       [0.59279107, 0.40720893],\n",
              "       [0.58201811, 0.41798189],\n",
              "       [0.53881642, 0.46118358],\n",
              "       [0.58265899, 0.41734101],\n",
              "       [0.66522435, 0.33477565],\n",
              "       [0.60515449, 0.39484551],\n",
              "       [0.64076018, 0.35923982],\n",
              "       [0.47420063, 0.52579937],\n",
              "       [0.52977264, 0.47022736],\n",
              "       [0.66879122, 0.33120878],\n",
              "       [0.58833527, 0.41166473],\n",
              "       [0.50624112, 0.49375888],\n",
              "       [0.5274767 , 0.4725233 ],\n",
              "       [0.76349296, 0.23650704],\n",
              "       [0.50175297, 0.49824703]])"
            ]
          },
          "metadata": {},
          "execution_count": 40
        }
      ]
    },
    {
      "cell_type": "code",
      "source": [
        "x=confusion_matrix(y_test, yhat)\n",
        "print(x)"
      ],
      "metadata": {
        "colab": {
          "base_uri": "https://localhost:8080/"
        },
        "id": "myW-JWSf-Cj_",
        "outputId": "304eaa5f-88c4-42bf-913a-9c2db10952ed"
      },
      "execution_count": null,
      "outputs": [
        {
          "output_type": "stream",
          "name": "stdout",
          "text": [
            "[[24  1]\n",
            " [14  1]]\n"
          ]
        }
      ]
    },
    {
      "cell_type": "code",
      "source": [
        "print((x[0,0]+x[1,1])/(x[0,0]+x[1,1]+x[0,1]+x[1,0]))"
      ],
      "metadata": {
        "colab": {
          "base_uri": "https://localhost:8080/"
        },
        "id": "tJ4XDEkP-ImW",
        "outputId": "bc862a0f-246e-4aba-c71e-939153bf9eaf"
      },
      "execution_count": null,
      "outputs": [
        {
          "output_type": "stream",
          "name": "stdout",
          "text": [
            "0.625\n"
          ]
        }
      ]
    }
  ]
}